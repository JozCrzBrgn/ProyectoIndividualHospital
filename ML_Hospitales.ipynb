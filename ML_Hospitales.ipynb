{
 "cells": [
  {
   "cell_type": "markdown",
   "id": "15b73de3-f0e4-4345-a858-395701d62b93",
   "metadata": {},
   "source": [
    "# Caso: Estancia hospitalaria"
   ]
  },
  {
   "cell_type": "markdown",
   "id": "8827a6b4-eca8-482f-b7a7-0ecde1cd1473",
   "metadata": {},
   "source": [
    "## Enunciado del problema y caso práctico.\n",
    "\n",
    "La hospitalización, o estancia hospitalaria, cuando es prolongada constituye una preocupación a nivel mundial debido a sus efectos negativos en el sistema de salud, aumentando los costos, generando deficiencia en la accesibilidad de prestación de servicios de salud, saturación de unidades de hospitalización y urgencias, por consiguiente, mayores efectos adversos como lo son las enfermedades intrahospitalarias.\n",
    "\n",
    "El estudio de los procesos de atención en salud, así como el conocimiento de las características y perfiles de los usuarios con el objetivo de predecir la ocupación hospitalaria, es uno de los aspectos al que las autoridades de salud han prestado gran interés, pues permite no sólo garantizar los recursos necesarios para la atención del paciente, sino realizar ajustes respecto a la oferta y demanda de los servicios de salud y los implementos asociados."
   ]
  },
  {
   "cell_type": "markdown",
   "id": "4a395261-f8fc-42b4-b0d9-c2bb17e851ce",
   "metadata": {},
   "source": [
    "## Objetivo a tener en cuenta.\n",
    "\n",
    "Un importante Centro de Salud lo ha contratado con el fin de poder predecir si un paciente tendrá una estancia hospitalaria prolongada o no, utilizando la información contenida en el dataset asociado, la cual recaba una muestra histórica de sus pacientes, para poder administrar la demanda de camas en el hospital según la condición de los pacientes recientemente ingresados.\n",
    "\n",
    "Para esto, se define que un paciente posee estancia hospitalaria prolongada si ha estado hospitalizado más de 8 días. Por lo que debe generar dicha variable categórica y luego categorizar los pacientes según las variables que usted considere necesarias, justificando dicha elección."
   ]
  },
  {
   "cell_type": "markdown",
   "id": "0cbd06ef-d535-4fd8-919b-0fb1e54f34d1",
   "metadata": {},
   "source": [
    "# Importar las librerias que se usarán"
   ]
  },
  {
   "cell_type": "code",
   "execution_count": 61,
   "id": "ed363cf7-eebd-427f-86de-b832372c542d",
   "metadata": {},
   "outputs": [
    {
     "name": "stdout",
     "output_type": "stream",
     "text": [
      "Librerias importadas !\n"
     ]
    }
   ],
   "source": [
    "# Manipulación del DataFrame\n",
    "import pandas as pd\n",
    "import numpy as np\n",
    "\n",
    "# Gráficas y visualización\n",
    "import seaborn as sns\n",
    "import matplotlib.pyplot as plt\n",
    "from tqdm.notebook import tqdm\n",
    "\n",
    "# Preprocesamiento\n",
    "from sklearn.preprocessing import OneHotEncoder\n",
    "from sklearn.preprocessing import MinMaxScaler\n",
    "from sklearn.pipeline import Pipeline\n",
    "\n",
    "# Procesamiento\n",
    "from sklearn.model_selection import train_test_split\n",
    "from sklearn.linear_model import LogisticRegression\n",
    "from sklearn.ensemble import RandomForestClassifier\n",
    "from sklearn.neighbors import KNeighborsClassifier\n",
    "import tensorflow as tf\n",
    "\n",
    "# Evaluación del modelo\n",
    "from sklearn.metrics import accuracy_score, recall_score\n",
    "from sklearn.metrics import confusion_matrix\n",
    "from sklearn.metrics import classification_report\n",
    "\n",
    "print('Librerias importadas !')"
   ]
  },
  {
   "cell_type": "markdown",
   "id": "86c0ceee-dd55-4cfe-89b9-00d7c526ebae",
   "metadata": {
    "tags": []
   },
   "source": [
    "# Carga y transformación de datos\n",
    "\n",
    "## Visualización del dataset\n",
    "\n",
    "### Creación de DataFrame"
   ]
  },
  {
   "cell_type": "code",
   "execution_count": 4,
   "id": "e1ee8964-a31b-4976-943e-2ab2146db332",
   "metadata": {},
   "outputs": [
    {
     "name": "stdout",
     "output_type": "stream",
     "text": [
      "DataFrame cargado !!!\n"
     ]
    }
   ],
   "source": [
    "# Extraemos los datos del dataset 'hospitalizaciones_train.csv'\n",
    "data = pd.read_csv('hospitalizaciones_train.csv')\n",
    "print('DataFrame cargado !!!')"
   ]
  },
  {
   "cell_type": "markdown",
   "id": "c4e95b54-d46a-4a49-9a0d-f7377d4680bc",
   "metadata": {},
   "source": [
    "### Variables que posee el DataFrame"
   ]
  },
  {
   "cell_type": "code",
   "execution_count": 5,
   "id": "63152f50-e20b-4cfe-96c6-fcb447c8d905",
   "metadata": {},
   "outputs": [
    {
     "data": {
      "text/plain": [
       "Index(['Available Extra Rooms in Hospital', 'Department', 'Ward_Facility_Code',\n",
       "       'doctor_name', 'staff_available', 'patientid', 'Age', 'gender',\n",
       "       'Type of Admission', 'Severity of Illness', 'health_conditions',\n",
       "       'Visitors with Patient', 'Insurance', 'Admission_Deposit',\n",
       "       'Stay (in days)'],\n",
       "      dtype='object')"
      ]
     },
     "execution_count": 5,
     "metadata": {},
     "output_type": "execute_result"
    }
   ],
   "source": [
    "# Vemos las columnas que tiene el dataset\n",
    "data.columns"
   ]
  },
  {
   "cell_type": "markdown",
   "id": "01f79a22-3942-490b-8c3a-ea4ae1606ff5",
   "metadata": {},
   "source": [
    "### Número de renglones y columas de los DataFrames"
   ]
  },
  {
   "cell_type": "code",
   "execution_count": 6,
   "id": "6fe8148f-89a2-4a72-a2e9-7645efce03bd",
   "metadata": {},
   "outputs": [
    {
     "data": {
      "text/plain": [
       "(410000, 15)"
      ]
     },
     "execution_count": 6,
     "metadata": {},
     "output_type": "execute_result"
    }
   ],
   "source": [
    "# Su numero de filas y columnas\n",
    "data.shape"
   ]
  },
  {
   "cell_type": "markdown",
   "id": "0b98efd1-1297-446e-b28b-d7a11e465608",
   "metadata": {},
   "source": [
    "### Tipos de datos de cada variable del DataFrame\n"
   ]
  },
  {
   "cell_type": "code",
   "execution_count": 7,
   "id": "ef27d08b-fe37-4ebc-b048-25c1bfee4e98",
   "metadata": {},
   "outputs": [
    {
     "data": {
      "text/plain": [
       "Available Extra Rooms in Hospital      int64\n",
       "Department                            object\n",
       "Ward_Facility_Code                    object\n",
       "doctor_name                           object\n",
       "staff_available                        int64\n",
       "patientid                              int64\n",
       "Age                                   object\n",
       "gender                                object\n",
       "Type of Admission                     object\n",
       "Severity of Illness                   object\n",
       "health_conditions                     object\n",
       "Visitors with Patient                  int64\n",
       "Insurance                             object\n",
       "Admission_Deposit                    float64\n",
       "Stay (in days)                         int64\n",
       "dtype: object"
      ]
     },
     "execution_count": 7,
     "metadata": {},
     "output_type": "execute_result"
    }
   ],
   "source": [
    "# Tipo de variable que tenemos\n",
    "data.dtypes"
   ]
  },
  {
   "cell_type": "markdown",
   "id": "00023173-ed9a-4f59-af58-f7dc19f256d0",
   "metadata": {},
   "source": [
    "### Gráfica de los valores nulos del DataFrame\n"
   ]
  },
  {
   "cell_type": "code",
   "execution_count": 8,
   "id": "df48c979-2a3c-4911-97ba-fc58aad639f0",
   "metadata": {},
   "outputs": [
    {
     "data": {
      "text/plain": [
       "<AxesSubplot:>"
      ]
     },
     "execution_count": 8,
     "metadata": {},
     "output_type": "execute_result"
    },
    {
     "data": {
      "image/png": "[encoded data removed]",
      "text/plain": [
       "<Figure size 432x288 with 1 Axes>"
      ]
     },
     "metadata": {
      "needs_background": "light"
     },
     "output_type": "display_data"
    }
   ],
   "source": [
    "# Visualización de valores nulos en el DataFrame\n",
    "sns.heatmap(data.isnull(), yticklabels = False, cbar = False, cmap = 'Blues')"
   ]
  },
  {
   "cell_type": "markdown",
   "id": "fed46322-a8d1-49ee-8f15-600120b550ba",
   "metadata": {},
   "source": [
    "Notamos que las columnas del dataset no posee valores nulos."
   ]
  },
  {
   "cell_type": "markdown",
   "id": "d273da88-81b1-4666-951f-d1c1d6e7813b",
   "metadata": {},
   "source": [
    "### Visualización más detallada del DataFrame\n"
   ]
  },
  {
   "cell_type": "code",
   "execution_count": 9,
   "id": "e098db90-7e22-4383-b90d-41a244500a84",
   "metadata": {},
   "outputs": [
    {
     "data": {
      "text/html": [
       "<div>\n",
       "<style scoped>\n",
       "    .dataframe tbody tr th:only-of-type {\n",
       "        vertical-align: middle;\n",
       "    }\n",
       "\n",
       "    .dataframe tbody tr th {\n",
       "        vertical-align: top;\n",
       "    }\n",
       "\n",
       "    .dataframe thead th {\n",
       "        text-align: right;\n",
       "    }\n",
       "</style>\n",
       "<table border=\"1\" class=\"dataframe\">\n",
       "  <thead>\n",
       "    <tr style=\"text-align: right;\">\n",
       "      <th></th>\n",
       "      <th>Available Extra Rooms in Hospital</th>\n",
       "      <th>Department</th>\n",
       "      <th>Ward_Facility_Code</th>\n",
       "      <th>doctor_name</th>\n",
       "      <th>staff_available</th>\n",
       "      <th>patientid</th>\n",
       "      <th>Age</th>\n",
       "      <th>gender</th>\n",
       "      <th>Type of Admission</th>\n",
       "      <th>Severity of Illness</th>\n",
       "      <th>health_conditions</th>\n",
       "      <th>Visitors with Patient</th>\n",
       "      <th>Insurance</th>\n",
       "      <th>Admission_Deposit</th>\n",
       "      <th>Stay (in days)</th>\n",
       "    </tr>\n",
       "  </thead>\n",
       "  <tbody>\n",
       "    <tr>\n",
       "      <th>0</th>\n",
       "      <td>4</td>\n",
       "      <td>gynecology</td>\n",
       "      <td>D</td>\n",
       "      <td>Dr Sophia</td>\n",
       "      <td>0</td>\n",
       "      <td>33070</td>\n",
       "      <td>41-50</td>\n",
       "      <td>Female</td>\n",
       "      <td>Trauma</td>\n",
       "      <td>Extreme</td>\n",
       "      <td>Diabetes</td>\n",
       "      <td>4</td>\n",
       "      <td>Yes</td>\n",
       "      <td>2966.408696</td>\n",
       "      <td>8</td>\n",
       "    </tr>\n",
       "    <tr>\n",
       "      <th>1</th>\n",
       "      <td>4</td>\n",
       "      <td>gynecology</td>\n",
       "      <td>B</td>\n",
       "      <td>Dr Sophia</td>\n",
       "      <td>2</td>\n",
       "      <td>34808</td>\n",
       "      <td>31-40</td>\n",
       "      <td>Female</td>\n",
       "      <td>Trauma</td>\n",
       "      <td>Minor</td>\n",
       "      <td>Heart disease</td>\n",
       "      <td>2</td>\n",
       "      <td>No</td>\n",
       "      <td>3554.835677</td>\n",
       "      <td>9</td>\n",
       "    </tr>\n",
       "    <tr>\n",
       "      <th>2</th>\n",
       "      <td>2</td>\n",
       "      <td>gynecology</td>\n",
       "      <td>B</td>\n",
       "      <td>Dr Sophia</td>\n",
       "      <td>8</td>\n",
       "      <td>44577</td>\n",
       "      <td>21-30</td>\n",
       "      <td>Female</td>\n",
       "      <td>Trauma</td>\n",
       "      <td>Extreme</td>\n",
       "      <td>Diabetes</td>\n",
       "      <td>2</td>\n",
       "      <td>Yes</td>\n",
       "      <td>5624.733654</td>\n",
       "      <td>7</td>\n",
       "    </tr>\n",
       "    <tr>\n",
       "      <th>3</th>\n",
       "      <td>4</td>\n",
       "      <td>gynecology</td>\n",
       "      <td>D</td>\n",
       "      <td>Dr Olivia</td>\n",
       "      <td>7</td>\n",
       "      <td>3695</td>\n",
       "      <td>31-40</td>\n",
       "      <td>Female</td>\n",
       "      <td>Urgent</td>\n",
       "      <td>Moderate</td>\n",
       "      <td>None</td>\n",
       "      <td>4</td>\n",
       "      <td>No</td>\n",
       "      <td>4814.149231</td>\n",
       "      <td>8</td>\n",
       "    </tr>\n",
       "    <tr>\n",
       "      <th>4</th>\n",
       "      <td>2</td>\n",
       "      <td>anesthesia</td>\n",
       "      <td>E</td>\n",
       "      <td>Dr Mark</td>\n",
       "      <td>10</td>\n",
       "      <td>108956</td>\n",
       "      <td>71-80</td>\n",
       "      <td>Male</td>\n",
       "      <td>Trauma</td>\n",
       "      <td>Moderate</td>\n",
       "      <td>Diabetes</td>\n",
       "      <td>2</td>\n",
       "      <td>No</td>\n",
       "      <td>5169.269637</td>\n",
       "      <td>34</td>\n",
       "    </tr>\n",
       "    <tr>\n",
       "      <th>...</th>\n",
       "      <td>...</td>\n",
       "      <td>...</td>\n",
       "      <td>...</td>\n",
       "      <td>...</td>\n",
       "      <td>...</td>\n",
       "      <td>...</td>\n",
       "      <td>...</td>\n",
       "      <td>...</td>\n",
       "      <td>...</td>\n",
       "      <td>...</td>\n",
       "      <td>...</td>\n",
       "      <td>...</td>\n",
       "      <td>...</td>\n",
       "      <td>...</td>\n",
       "      <td>...</td>\n",
       "    </tr>\n",
       "    <tr>\n",
       "      <th>409995</th>\n",
       "      <td>1</td>\n",
       "      <td>gynecology</td>\n",
       "      <td>D</td>\n",
       "      <td>Dr Sarah</td>\n",
       "      <td>1</td>\n",
       "      <td>63105</td>\n",
       "      <td>31-40</td>\n",
       "      <td>Female</td>\n",
       "      <td>Trauma</td>\n",
       "      <td>Minor</td>\n",
       "      <td>Asthama</td>\n",
       "      <td>3</td>\n",
       "      <td>Yes</td>\n",
       "      <td>3902.291076</td>\n",
       "      <td>8</td>\n",
       "    </tr>\n",
       "    <tr>\n",
       "      <th>409996</th>\n",
       "      <td>5</td>\n",
       "      <td>gynecology</td>\n",
       "      <td>D</td>\n",
       "      <td>Dr Nathan</td>\n",
       "      <td>5</td>\n",
       "      <td>129292</td>\n",
       "      <td>21-30</td>\n",
       "      <td>Female</td>\n",
       "      <td>Trauma</td>\n",
       "      <td>Extreme</td>\n",
       "      <td>Other</td>\n",
       "      <td>4</td>\n",
       "      <td>No</td>\n",
       "      <td>4771.995223</td>\n",
       "      <td>9</td>\n",
       "    </tr>\n",
       "    <tr>\n",
       "      <th>409997</th>\n",
       "      <td>4</td>\n",
       "      <td>gynecology</td>\n",
       "      <td>D</td>\n",
       "      <td>Dr Sarah</td>\n",
       "      <td>9</td>\n",
       "      <td>11399</td>\n",
       "      <td>21-30</td>\n",
       "      <td>Female</td>\n",
       "      <td>Emergency</td>\n",
       "      <td>Minor</td>\n",
       "      <td>Asthama</td>\n",
       "      <td>4</td>\n",
       "      <td>Yes</td>\n",
       "      <td>3816.994210</td>\n",
       "      <td>9</td>\n",
       "    </tr>\n",
       "    <tr>\n",
       "      <th>409998</th>\n",
       "      <td>10</td>\n",
       "      <td>gynecology</td>\n",
       "      <td>D</td>\n",
       "      <td>Dr Olivia</td>\n",
       "      <td>10</td>\n",
       "      <td>75003</td>\n",
       "      <td>21-30</td>\n",
       "      <td>Female</td>\n",
       "      <td>Trauma</td>\n",
       "      <td>Moderate</td>\n",
       "      <td>Other</td>\n",
       "      <td>2</td>\n",
       "      <td>Yes</td>\n",
       "      <td>3841.577491</td>\n",
       "      <td>9</td>\n",
       "    </tr>\n",
       "    <tr>\n",
       "      <th>409999</th>\n",
       "      <td>3</td>\n",
       "      <td>gynecology</td>\n",
       "      <td>F</td>\n",
       "      <td>Dr Nathan</td>\n",
       "      <td>0</td>\n",
       "      <td>128183</td>\n",
       "      <td>41-50</td>\n",
       "      <td>Female</td>\n",
       "      <td>Trauma</td>\n",
       "      <td>Minor</td>\n",
       "      <td>Other</td>\n",
       "      <td>8</td>\n",
       "      <td>Yes</td>\n",
       "      <td>4329.046412</td>\n",
       "      <td>8</td>\n",
       "    </tr>\n",
       "  </tbody>\n",
       "</table>\n",
       "<p>410000 rows × 15 columns</p>\n",
       "</div>"
      ],
      "text/plain": [
       "        Available Extra Rooms in Hospital  Department Ward_Facility_Code  \\\n",
       "0                                       4  gynecology                  D   \n",
       "1                                       4  gynecology                  B   \n",
       "2                                       2  gynecology                  B   \n",
       "3                                       4  gynecology                  D   \n",
       "4                                       2  anesthesia                  E   \n",
       "...                                   ...         ...                ...   \n",
       "409995                                  1  gynecology                  D   \n",
       "409996                                  5  gynecology                  D   \n",
       "409997                                  4  gynecology                  D   \n",
       "409998                                 10  gynecology                  D   \n",
       "409999                                  3  gynecology                  F   \n",
       "\n",
       "       doctor_name  staff_available  patientid    Age  gender  \\\n",
       "0        Dr Sophia                0      33070  41-50  Female   \n",
       "1        Dr Sophia                2      34808  31-40  Female   \n",
       "2        Dr Sophia                8      44577  21-30  Female   \n",
       "3        Dr Olivia                7       3695  31-40  Female   \n",
       "4          Dr Mark               10     108956  71-80    Male   \n",
       "...            ...              ...        ...    ...     ...   \n",
       "409995    Dr Sarah                1      63105  31-40  Female   \n",
       "409996   Dr Nathan                5     129292  21-30  Female   \n",
       "409997    Dr Sarah                9      11399  21-30  Female   \n",
       "409998   Dr Olivia               10      75003  21-30  Female   \n",
       "409999   Dr Nathan                0     128183  41-50  Female   \n",
       "\n",
       "       Type of Admission Severity of Illness health_conditions  \\\n",
       "0                 Trauma             Extreme          Diabetes   \n",
       "1                 Trauma               Minor     Heart disease   \n",
       "2                 Trauma             Extreme          Diabetes   \n",
       "3                 Urgent            Moderate              None   \n",
       "4                 Trauma            Moderate          Diabetes   \n",
       "...                  ...                 ...               ...   \n",
       "409995            Trauma               Minor           Asthama   \n",
       "409996            Trauma             Extreme             Other   \n",
       "409997         Emergency               Minor           Asthama   \n",
       "409998            Trauma            Moderate             Other   \n",
       "409999            Trauma               Minor             Other   \n",
       "\n",
       "        Visitors with Patient Insurance  Admission_Deposit  Stay (in days)  \n",
       "0                           4       Yes        2966.408696               8  \n",
       "1                           2        No        3554.835677               9  \n",
       "2                           2       Yes        5624.733654               7  \n",
       "3                           4        No        4814.149231               8  \n",
       "4                           2        No        5169.269637              34  \n",
       "...                       ...       ...                ...             ...  \n",
       "409995                      3       Yes        3902.291076               8  \n",
       "409996                      4        No        4771.995223               9  \n",
       "409997                      4       Yes        3816.994210               9  \n",
       "409998                      2       Yes        3841.577491               9  \n",
       "409999                      8       Yes        4329.046412               8  \n",
       "\n",
       "[410000 rows x 15 columns]"
      ]
     },
     "execution_count": 9,
     "metadata": {},
     "output_type": "execute_result"
    }
   ],
   "source": [
    "data"
   ]
  },
  {
   "cell_type": "markdown",
   "id": "b1945736-47bf-4da6-9856-33cf377f2e26",
   "metadata": {},
   "source": [
    "### Estadísticos\n"
   ]
  },
  {
   "cell_type": "code",
   "execution_count": 10,
   "id": "cf81cc27-7987-4028-b4f2-4279df5b7359",
   "metadata": {},
   "outputs": [
    {
     "data": {
      "text/html": [
       "<div>\n",
       "<style scoped>\n",
       "    .dataframe tbody tr th:only-of-type {\n",
       "        vertical-align: middle;\n",
       "    }\n",
       "\n",
       "    .dataframe tbody tr th {\n",
       "        vertical-align: top;\n",
       "    }\n",
       "\n",
       "    .dataframe thead th {\n",
       "        text-align: right;\n",
       "    }\n",
       "</style>\n",
       "<table border=\"1\" class=\"dataframe\">\n",
       "  <thead>\n",
       "    <tr style=\"text-align: right;\">\n",
       "      <th></th>\n",
       "      <th>Available Extra Rooms in Hospital</th>\n",
       "      <th>staff_available</th>\n",
       "      <th>patientid</th>\n",
       "      <th>Visitors with Patient</th>\n",
       "      <th>Admission_Deposit</th>\n",
       "      <th>Stay (in days)</th>\n",
       "    </tr>\n",
       "  </thead>\n",
       "  <tbody>\n",
       "    <tr>\n",
       "      <th>count</th>\n",
       "      <td>410000.000000</td>\n",
       "      <td>410000.000000</td>\n",
       "      <td>410000.000000</td>\n",
       "      <td>410000.000000</td>\n",
       "      <td>410000.000000</td>\n",
       "      <td>410000.000000</td>\n",
       "    </tr>\n",
       "    <tr>\n",
       "      <th>mean</th>\n",
       "      <td>3.639376</td>\n",
       "      <td>5.020946</td>\n",
       "      <td>63095.940020</td>\n",
       "      <td>3.552520</td>\n",
       "      <td>4723.419239</td>\n",
       "      <td>12.378193</td>\n",
       "    </tr>\n",
       "    <tr>\n",
       "      <th>std</th>\n",
       "      <td>2.701702</td>\n",
       "      <td>3.158018</td>\n",
       "      <td>41686.175937</td>\n",
       "      <td>2.247459</td>\n",
       "      <td>1047.420292</td>\n",
       "      <td>7.905618</td>\n",
       "    </tr>\n",
       "    <tr>\n",
       "      <th>min</th>\n",
       "      <td>0.000000</td>\n",
       "      <td>0.000000</td>\n",
       "      <td>-3146.000000</td>\n",
       "      <td>0.000000</td>\n",
       "      <td>1654.005148</td>\n",
       "      <td>3.000000</td>\n",
       "    </tr>\n",
       "    <tr>\n",
       "      <th>25%</th>\n",
       "      <td>2.000000</td>\n",
       "      <td>2.000000</td>\n",
       "      <td>25405.000000</td>\n",
       "      <td>2.000000</td>\n",
       "      <td>4072.638351</td>\n",
       "      <td>8.000000</td>\n",
       "    </tr>\n",
       "    <tr>\n",
       "      <th>50%</th>\n",
       "      <td>3.000000</td>\n",
       "      <td>5.000000</td>\n",
       "      <td>57736.000000</td>\n",
       "      <td>3.000000</td>\n",
       "      <td>4627.488745</td>\n",
       "      <td>9.000000</td>\n",
       "    </tr>\n",
       "    <tr>\n",
       "      <th>75%</th>\n",
       "      <td>4.000000</td>\n",
       "      <td>8.000000</td>\n",
       "      <td>103278.250000</td>\n",
       "      <td>4.000000</td>\n",
       "      <td>5092.349430</td>\n",
       "      <td>11.000000</td>\n",
       "    </tr>\n",
       "    <tr>\n",
       "      <th>max</th>\n",
       "      <td>24.000000</td>\n",
       "      <td>10.000000</td>\n",
       "      <td>134400.000000</td>\n",
       "      <td>32.000000</td>\n",
       "      <td>10104.726390</td>\n",
       "      <td>51.000000</td>\n",
       "    </tr>\n",
       "  </tbody>\n",
       "</table>\n",
       "</div>"
      ],
      "text/plain": [
       "       Available Extra Rooms in Hospital  staff_available      patientid  \\\n",
       "count                      410000.000000    410000.000000  410000.000000   \n",
       "mean                            3.639376         5.020946   63095.940020   \n",
       "std                             2.701702         3.158018   41686.175937   \n",
       "min                             0.000000         0.000000   -3146.000000   \n",
       "25%                             2.000000         2.000000   25405.000000   \n",
       "50%                             3.000000         5.000000   57736.000000   \n",
       "75%                             4.000000         8.000000  103278.250000   \n",
       "max                            24.000000        10.000000  134400.000000   \n",
       "\n",
       "       Visitors with Patient  Admission_Deposit  Stay (in days)  \n",
       "count          410000.000000      410000.000000   410000.000000  \n",
       "mean                3.552520        4723.419239       12.378193  \n",
       "std                 2.247459        1047.420292        7.905618  \n",
       "min                 0.000000        1654.005148        3.000000  \n",
       "25%                 2.000000        4072.638351        8.000000  \n",
       "50%                 3.000000        4627.488745        9.000000  \n",
       "75%                 4.000000        5092.349430       11.000000  \n",
       "max                32.000000       10104.726390       51.000000  "
      ]
     },
     "execution_count": 10,
     "metadata": {},
     "output_type": "execute_result"
    }
   ],
   "source": [
    "# Resumen global de estadisticos:\n",
    "data.describe()"
   ]
  },
  {
   "cell_type": "markdown",
   "id": "1ad6de6d-c844-4fb8-8b7b-5242fe1a9b73",
   "metadata": {},
   "source": [
    "A simple vista se observa que puede haber algunos outliers en las columnas 'Available Extra Rooms in Hospital' y 'Visitors with Patient' que se analizarán más adelante."
   ]
  },
  {
   "cell_type": "markdown",
   "id": "d4f5fdf5-9bda-4bf6-aca0-3a6d6af42cc2",
   "metadata": {},
   "source": [
    "### Análisis rápido de las categorías usando un histograma.\n"
   ]
  },
  {
   "cell_type": "code",
   "execution_count": 11,
   "id": "5f7bb483-cf23-46d7-9987-f7c84dad5344",
   "metadata": {},
   "outputs": [
    {
     "data": {
      "text/plain": [
       "array([[<AxesSubplot:title={'center':'Available Extra Rooms in Hospital'}>,\n",
       "        <AxesSubplot:title={'center':'staff_available'}>],\n",
       "       [<AxesSubplot:title={'center':'patientid'}>,\n",
       "        <AxesSubplot:title={'center':'Visitors with Patient'}>],\n",
       "       [<AxesSubplot:title={'center':'Admission_Deposit'}>,\n",
       "        <AxesSubplot:title={'center':'Stay (in days)'}>]], dtype=object)"
      ]
     },
     "execution_count": 11,
     "metadata": {},
     "output_type": "execute_result"
    },
    {
     "data": {
      "image/png": "[encoded data removed]",
      "text/plain": [
       "<Figure size 1800x720 with 6 Axes>"
      ]
     },
     "metadata": {
      "needs_background": "light"
     },
     "output_type": "display_data"
    }
   ],
   "source": [
    "data.hist(bins = 50, figsize = (25,10), color = 'b')"
   ]
  },
  {
   "cell_type": "markdown",
   "id": "e70cda07-eeda-45b5-b6bd-85f2a0a199d1",
   "metadata": {},
   "source": [
    "Observamos que para:\n",
    "\n",
    "**Available Extra Rooms in Hospital**: Hay una distribución sesgada a la izquierda, que indica que que la mayoría de las veces siempre hay 4 habitaciones adicionales disponibles en el hospital.\n",
    "\n",
    "**staff_available**: En el hospital puede haber desde 0 hasta 10 personas del staff disponibles al momento del ingreso del paciente.\n",
    "\n",
    "**patientid**: Es un ID y para este analisis no servira de mucho así que se eliminará.\n",
    "\n",
    "**Visitors with Patient**: La cantidad de personas que visitarón al paciente son entre 0 y 4, y puede ser relevante para la mejora del paciente.\n",
    "\n",
    "**Admission_Deposit**: En promedio se pagan aproximadamente $5000 a nombre del paciente, con el fin de cubrir los costos iniciales de internación. \n",
    "\n",
    "**Stay (in days)**: Esta será nuestra columna objetivo, se analizará más adelante."
   ]
  },
  {
   "cell_type": "markdown",
   "id": "7e0bf70d-28b3-4eea-a000-1ba124300dcb",
   "metadata": {},
   "source": [
    "### Matriz de correlación.\n"
   ]
  },
  {
   "cell_type": "code",
   "execution_count": 16,
   "id": "8f000947-da43-4d12-aedf-c2fb8bec77f0",
   "metadata": {},
   "outputs": [
    {
     "data": {
      "text/plain": [
       "<AxesSubplot:>"
      ]
     },
     "execution_count": 16,
     "metadata": {},
     "output_type": "execute_result"
    },
    {
     "data": {
      "image/png": "[encoded data removed]",
      "text/plain": [
       "<Figure size 720x720 with 2 Axes>"
      ]
     },
     "metadata": {
      "needs_background": "light"
     },
     "output_type": "display_data"
    }
   ],
   "source": [
    "correlations = data.corr()\n",
    "f, ax = plt.subplots(figsize = (10, 10))\n",
    "sns.heatmap(correlations, annot = True)"
   ]
  },
  {
   "cell_type": "markdown",
   "id": "4aa03fb2-e988-4d82-83cd-38624465495f",
   "metadata": {},
   "source": [
    "Observamos que las columnas ('Available Extra Rooms in Hospital', 'staff_available', 'patientid', 'Visitors with Patient', 'Admission_Deposit' y 'Stay (in days)') no estan correlacionadas."
   ]
  },
  {
   "cell_type": "markdown",
   "id": "cb79f39b-780c-4e16-bdf2-e1a3e6e9965e",
   "metadata": {},
   "source": [
    "## Análisis de la columna: \"Stay (in days)\"\n",
    "\n",
    "Como se nos pide clasificar las estadías en cortas (menor o igual a 8 días) y largas (mayor a 8 días) tomando como referencia 8 días, lo primero que haremos será cambiar a binario la columna 'Stay (in days)'."
   ]
  },
  {
   "cell_type": "code",
   "execution_count": 17,
   "id": "3ba2071f-b8fd-4aa4-b7d7-460a266a0e01",
   "metadata": {},
   "outputs": [
    {
     "data": {
      "text/html": [
       "<div>\n",
       "<style scoped>\n",
       "    .dataframe tbody tr th:only-of-type {\n",
       "        vertical-align: middle;\n",
       "    }\n",
       "\n",
       "    .dataframe tbody tr th {\n",
       "        vertical-align: top;\n",
       "    }\n",
       "\n",
       "    .dataframe thead th {\n",
       "        text-align: right;\n",
       "    }\n",
       "</style>\n",
       "<table border=\"1\" class=\"dataframe\">\n",
       "  <thead>\n",
       "    <tr style=\"text-align: right;\">\n",
       "      <th></th>\n",
       "      <th>Stay (in days)</th>\n",
       "    </tr>\n",
       "  </thead>\n",
       "  <tbody>\n",
       "    <tr>\n",
       "      <th>0</th>\n",
       "      <td>8</td>\n",
       "    </tr>\n",
       "    <tr>\n",
       "      <th>1</th>\n",
       "      <td>9</td>\n",
       "    </tr>\n",
       "    <tr>\n",
       "      <th>2</th>\n",
       "      <td>7</td>\n",
       "    </tr>\n",
       "    <tr>\n",
       "      <th>3</th>\n",
       "      <td>8</td>\n",
       "    </tr>\n",
       "    <tr>\n",
       "      <th>4</th>\n",
       "      <td>34</td>\n",
       "    </tr>\n",
       "  </tbody>\n",
       "</table>\n",
       "</div>"
      ],
      "text/plain": [
       "   Stay (in days)\n",
       "0               8\n",
       "1               9\n",
       "2               7\n",
       "3               8\n",
       "4              34"
      ]
     },
     "execution_count": 17,
     "metadata": {},
     "output_type": "execute_result"
    }
   ],
   "source": [
    "# DataFrame antes de efectuar los cambios\n",
    "data[['Stay (in days)']].head()"
   ]
  },
  {
   "cell_type": "code",
   "execution_count": 18,
   "id": "2038468a-cac4-47e3-8945-e661b9ed7ed8",
   "metadata": {},
   "outputs": [
    {
     "data": {
      "text/html": [
       "<div>\n",
       "<style scoped>\n",
       "    .dataframe tbody tr th:only-of-type {\n",
       "        vertical-align: middle;\n",
       "    }\n",
       "\n",
       "    .dataframe tbody tr th {\n",
       "        vertical-align: top;\n",
       "    }\n",
       "\n",
       "    .dataframe thead th {\n",
       "        text-align: right;\n",
       "    }\n",
       "</style>\n",
       "<table border=\"1\" class=\"dataframe\">\n",
       "  <thead>\n",
       "    <tr style=\"text-align: right;\">\n",
       "      <th></th>\n",
       "      <th>Stay (in days)</th>\n",
       "    </tr>\n",
       "  </thead>\n",
       "  <tbody>\n",
       "    <tr>\n",
       "      <th>0</th>\n",
       "      <td>0</td>\n",
       "    </tr>\n",
       "    <tr>\n",
       "      <th>1</th>\n",
       "      <td>1</td>\n",
       "    </tr>\n",
       "    <tr>\n",
       "      <th>2</th>\n",
       "      <td>0</td>\n",
       "    </tr>\n",
       "    <tr>\n",
       "      <th>3</th>\n",
       "      <td>0</td>\n",
       "    </tr>\n",
       "    <tr>\n",
       "      <th>4</th>\n",
       "      <td>1</td>\n",
       "    </tr>\n",
       "  </tbody>\n",
       "</table>\n",
       "</div>"
      ],
      "text/plain": [
       "   Stay (in days)\n",
       "0               0\n",
       "1               1\n",
       "2               0\n",
       "3               0\n",
       "4               1"
      ]
     },
     "execution_count": 18,
     "metadata": {},
     "output_type": "execute_result"
    }
   ],
   "source": [
    "# Estadías cortas (menor o igual a 8 días) = 0 y estadías largas (mayor a 8 días) = 1\n",
    "data['Stay (in days)'] = data['Stay (in days)'].apply(lambda x: 0 if x <= 8 else 1)\n",
    "# DataFrame despues de efectuar los cambios\n",
    "data[['Stay (in days)']].head()"
   ]
  },
  {
   "cell_type": "markdown",
   "id": "a0690d8e-9068-4f08-b339-b0eca7299409",
   "metadata": {},
   "source": [
    "## Análisis de la columna: \"patientid\"\n",
    "\n",
    "Es un ID y para este analisis no servira de mucho así que se eliminará."
   ]
  },
  {
   "cell_type": "code",
   "execution_count": 19,
   "id": "704feb8d-06ea-428d-80de-3d3a00b7d44a",
   "metadata": {},
   "outputs": [
    {
     "name": "stdout",
     "output_type": "stream",
     "text": [
      "Index(['Available Extra Rooms in Hospital', 'Department', 'Ward_Facility_Code',\n",
      "       'doctor_name', 'staff_available', 'Age', 'gender', 'Type of Admission',\n",
      "       'Severity of Illness', 'health_conditions', 'Visitors with Patient',\n",
      "       'Insurance', 'Admission_Deposit', 'Stay (in days)'],\n",
      "      dtype='object')\n",
      "(410000, 14)\n"
     ]
    }
   ],
   "source": [
    "# Eliminamos del DataFrame\n",
    "data.drop(['patientid'], axis=1, inplace=True)\n",
    "print(data.columns)\n",
    "print(data.shape)"
   ]
  },
  {
   "cell_type": "markdown",
   "id": "201f9937-de16-4c66-8b81-e70bcc0594b9",
   "metadata": {},
   "source": [
    "## Análisis de las columnas: \"Department\" - \"Ward_Facility_Code\" - \"doctor_name\" - \"Age\" - \"gender\" - \"Type of Admission\" - \"Severity of Illness\" - \"health_conditions\" - \"Insurance\"\n",
    "\n",
    "Ya que estas columnas poseen diferentes categorias con información relevante, lo primero que haremos es mostrar el tipo de valores únicos de cada columna para saber con que estaremos trabajando y despues las transformaremos de variables tipo **object** a tipo **category** para usarlas en nuestro modelo."
   ]
  },
  {
   "cell_type": "code",
   "execution_count": 20,
   "id": "f44acf4e-a62f-4840-94ff-f403c195d862",
   "metadata": {},
   "outputs": [
    {
     "data": {
      "text/plain": [
       "array(['gynecology', 'anesthesia', 'TB & Chest disease', 'radiotherapy',\n",
       "       'surgery'], dtype=object)"
      ]
     },
     "execution_count": 20,
     "metadata": {},
     "output_type": "execute_result"
    }
   ],
   "source": [
    "# Valores unicos en la columna 'Department'\n",
    "data['Department'].unique()"
   ]
  },
  {
   "cell_type": "code",
   "execution_count": 21,
   "id": "f350b7af-83d3-463d-a281-2aacd1137db3",
   "metadata": {},
   "outputs": [
    {
     "data": {
      "text/plain": [
       "array(['D', 'B', 'E', 'F', 'A', 'C'], dtype=object)"
      ]
     },
     "execution_count": 21,
     "metadata": {},
     "output_type": "execute_result"
    }
   ],
   "source": [
    "# Valores unicos en la columna 'Ward_Facility_Code'\n",
    "data['Ward_Facility_Code'].unique()"
   ]
  },
  {
   "cell_type": "code",
   "execution_count": 22,
   "id": "3a3f2c39-6df6-4507-ad80-66656a749ff3",
   "metadata": {},
   "outputs": [
    {
     "data": {
      "text/plain": [
       "array(['Dr Sophia', 'Dr Olivia', 'Dr Mark', 'Dr John', 'Dr Sarah',\n",
       "       'Dr Sam', 'Dr Nathan', 'Dr Simon', 'Dr Isaac'], dtype=object)"
      ]
     },
     "execution_count": 22,
     "metadata": {},
     "output_type": "execute_result"
    }
   ],
   "source": [
    "# Valores unicos en la columna 'doctor_name'\n",
    "data['doctor_name'].unique()"
   ]
  },
  {
   "cell_type": "code",
   "execution_count": 23,
   "id": "1d5e999a-f0cf-40bc-b2d8-9bb6406cf5e2",
   "metadata": {},
   "outputs": [
    {
     "data": {
      "text/plain": [
       "array(['41-50', '31-40', '21-30', '71-80', '11-20', '51-60', '61-70',\n",
       "       '81-90', '91-100', '0-10'], dtype=object)"
      ]
     },
     "execution_count": 23,
     "metadata": {},
     "output_type": "execute_result"
    }
   ],
   "source": [
    "# Valores unicos en la columna 'Age'\n",
    "data['Age'].unique()"
   ]
  },
  {
   "cell_type": "code",
   "execution_count": 24,
   "id": "c3cdb8d7-ca7a-48ff-8a55-c6a7a8ecb04b",
   "metadata": {},
   "outputs": [
    {
     "data": {
      "text/plain": [
       "array(['Female', 'Male', 'Other'], dtype=object)"
      ]
     },
     "execution_count": 24,
     "metadata": {},
     "output_type": "execute_result"
    }
   ],
   "source": [
    "# Valores unicos en la columna 'gender'\n",
    "data['gender'].unique()"
   ]
  },
  {
   "cell_type": "code",
   "execution_count": 25,
   "id": "66d1215f-5d1e-4fab-99af-afac5808eb61",
   "metadata": {},
   "outputs": [
    {
     "data": {
      "text/plain": [
       "array(['Trauma', 'Urgent', 'Emergency'], dtype=object)"
      ]
     },
     "execution_count": 25,
     "metadata": {},
     "output_type": "execute_result"
    }
   ],
   "source": [
    "# Valores unicos en la columna 'Type of Admission'\n",
    "data['Type of Admission'].unique()"
   ]
  },
  {
   "cell_type": "code",
   "execution_count": 26,
   "id": "89662eb5-38ef-4428-8349-4cf6cb6bd97e",
   "metadata": {},
   "outputs": [
    {
     "data": {
      "text/plain": [
       "array(['Extreme', 'Minor', 'Moderate'], dtype=object)"
      ]
     },
     "execution_count": 26,
     "metadata": {},
     "output_type": "execute_result"
    }
   ],
   "source": [
    "# Valores unicos en la columna 'Severity of Illness'\n",
    "data['Severity of Illness'].unique()"
   ]
  },
  {
   "cell_type": "code",
   "execution_count": 27,
   "id": "e2929637-c259-44aa-984f-0eabf4d771e7",
   "metadata": {},
   "outputs": [
    {
     "data": {
      "text/plain": [
       "array(['Diabetes', 'Heart disease', 'None', 'Other', 'Asthama',\n",
       "       'High Blood Pressure'], dtype=object)"
      ]
     },
     "execution_count": 27,
     "metadata": {},
     "output_type": "execute_result"
    }
   ],
   "source": [
    "# Valores unicos en la columna 'health_conditions'\n",
    "data['health_conditions'].unique()"
   ]
  },
  {
   "cell_type": "code",
   "execution_count": 28,
   "id": "a9bade98-c56e-451c-a152-941b048d4c0f",
   "metadata": {},
   "outputs": [
    {
     "data": {
      "text/plain": [
       "array(['Yes', 'No'], dtype=object)"
      ]
     },
     "execution_count": 28,
     "metadata": {},
     "output_type": "execute_result"
    }
   ],
   "source": [
    "# Valores unicos en la columna 'Insurance'\n",
    "data['Insurance'].unique()"
   ]
  },
  {
   "cell_type": "code",
   "execution_count": 29,
   "id": "45eb3777-b6b6-4744-97ab-4fc3649e703d",
   "metadata": {},
   "outputs": [
    {
     "data": {
      "text/plain": [
       "Available Extra Rooms in Hospital       int64\n",
       "Department                           category\n",
       "Ward_Facility_Code                   category\n",
       "doctor_name                          category\n",
       "staff_available                         int64\n",
       "Age                                  category\n",
       "gender                               category\n",
       "Type of Admission                    category\n",
       "Severity of Illness                  category\n",
       "health_conditions                    category\n",
       "Visitors with Patient                   int64\n",
       "Insurance                            category\n",
       "Admission_Deposit                     float64\n",
       "Stay (in days)                          int64\n",
       "dtype: object"
      ]
     },
     "execution_count": 29,
     "metadata": {},
     "output_type": "execute_result"
    }
   ],
   "source": [
    "# Transformación a variables categoricas\n",
    "data[[\"Department\",\"Ward_Facility_Code\",\"doctor_name\",\"Age\",\"gender\",\n",
    "      \"Type of Admission\",\"Severity of Illness\",\"health_conditions\",\n",
    "      \"Insurance\"]] = data[[\"Department\",\"Ward_Facility_Code\",\"doctor_name\",\"Age\",\"gender\",\"Type of Admission\",\n",
    "                            \"Severity of Illness\",\"health_conditions\",\"Insurance\"]].astype('category')\n",
    "data.dtypes"
   ]
  },
  {
   "cell_type": "markdown",
   "id": "5fcd91f6-e513-4f51-b552-48d8351ea6fa",
   "metadata": {},
   "source": [
    "# Pipeline de la transformación de datos"
   ]
  },
  {
   "cell_type": "code",
   "execution_count": 85,
   "id": "b573cea5-7b3f-4d39-8fc8-8e5ee03bd95e",
   "metadata": {},
   "outputs": [
    {
     "data": {
      "text/plain": [
       "Available Extra Rooms in Hospital       int64\n",
       "Department                           category\n",
       "Ward_Facility_Code                   category\n",
       "doctor_name                          category\n",
       "staff_available                         int64\n",
       "Age                                  category\n",
       "gender                               category\n",
       "Type of Admission                    category\n",
       "Severity of Illness                  category\n",
       "health_conditions                    category\n",
       "Visitors with Patient                   int64\n",
       "Insurance                            category\n",
       "Admission_Deposit                     float64\n",
       "Stay (in days)                          int64\n",
       "dtype: object"
      ]
     },
     "execution_count": 85,
     "metadata": {},
     "output_type": "execute_result"
    }
   ],
   "source": [
    "# Extraemos los datos de los datasets: 'hospitalizaciones_train.csv'\n",
    "data = pd.read_csv('hospitalizaciones_train.csv')\n",
    "\n",
    "# Clases del Pipeline\n",
    "class rows_Duplicates():\n",
    "    '''Eliminamos filas duplicadas'''\n",
    "    def fit(self, X, y=None):\n",
    "        return self\n",
    "    \n",
    "    def transform(self, X):\n",
    "        X = X.drop_duplicates()\n",
    "        return X\n",
    "    \n",
    "class patientid_Dropper():\n",
    "    '''Eliminamos la columna \"patientid\" '''\n",
    "    def fit(self, X, y=None):\n",
    "        return self\n",
    "    \n",
    "    def transform(self, X):\n",
    "        return X.drop(['patientid'], axis=1)\n",
    "    \n",
    "class to_Category():\n",
    "    '''Transformamos las columnas de tipo object a category'''\n",
    "    def fit(self, X, y=None):\n",
    "        return self\n",
    "    \n",
    "    def transform(self, X):\n",
    "        X[[\"Department\",\"Ward_Facility_Code\",\"doctor_name\",\n",
    "           \"Age\",\"gender\",\"Type of Admission\",\"Severity of Illness\",\n",
    "           \"health_conditions\",\"Insurance\"]] = X[[\"Department\",\"Ward_Facility_Code\",\"doctor_name\",\n",
    "                                                     \"Age\",\"gender\",\"Type of Admission\",\"Severity of Illness\",\n",
    "                                                     \"health_conditions\",\"Insurance\"]].astype('category')\n",
    "        return X\n",
    "    \n",
    "class binary_Stay():\n",
    "    ''' Cambiamos a binario la columna \"Stay (in days)\" solo si existe '''\n",
    "    def fit(self, X, y=None):\n",
    "        return self\n",
    "    \n",
    "    def transform(self, X):\n",
    "        if 'Stay (in days)' in X.columns:\n",
    "            # Estadías cortas (menor o igual a 8 días) = 0 y estadías largas (mayor a 8 días) = 1\n",
    "            X['Stay (in days)'] = X['Stay (in days)'].apply(lambda x: 0 if x <= 8 else 1)\n",
    "            return X\n",
    "        else:\n",
    "            return X\n",
    "        \n",
    "\n",
    "# Pipeline de transformación de datos\n",
    "pipe_trans = Pipeline([\n",
    "    ('duplicates', rows_Duplicates()),\n",
    "    ('dropper', patientid_Dropper()),\n",
    "    ('category', to_Category()),\n",
    "    ('binario', binary_Stay())\n",
    "])\n",
    "\n",
    "data = pipe_trans.transform(data)\n",
    "data.dtypes"
   ]
  },
  {
   "cell_type": "markdown",
   "id": "e7fde990-b3d2-4950-8f9b-a59b3b378bd6",
   "metadata": {},
   "source": [
    "# Preprocesamiento de datos\n",
    "\n",
    "Una ves limpio el DataFrame, el siguiente paso es dejar las variables listas para poder usarlas en un modelo de Machine Learning."
   ]
  },
  {
   "cell_type": "markdown",
   "id": "a6e9697a-c731-461a-864d-bba5b7b8eeea",
   "metadata": {},
   "source": [
    "## Codificación de variables categóricas.\n",
    "\n",
    "La variable categórica, a diferencia de las variables cardinales o continuas (que permiten cálculos numéricos), clasifica a los individuos o casos. Normalmente toman valores representados por números enteros, como el uno o el cero, pero estos son solo eso, representaciones."
   ]
  },
  {
   "cell_type": "code",
   "execution_count": 35,
   "id": "00ff5ad6-6807-47ce-b689-62eb6ceb2309",
   "metadata": {},
   "outputs": [
    {
     "name": "stdout",
     "output_type": "stream",
     "text": [
      "<class 'pandas.core.frame.DataFrame'>\n",
      "Int64Index: 410000 entries, 0 to 409999\n",
      "Data columns (total 9 columns):\n",
      " #   Column               Non-Null Count   Dtype   \n",
      "---  ------               --------------   -----   \n",
      " 0   Department           410000 non-null  category\n",
      " 1   Ward_Facility_Code   410000 non-null  category\n",
      " 2   doctor_name          410000 non-null  category\n",
      " 3   Age                  410000 non-null  category\n",
      " 4   gender               410000 non-null  category\n",
      " 5   Type of Admission    410000 non-null  category\n",
      " 6   Severity of Illness  410000 non-null  category\n",
      " 7   health_conditions    410000 non-null  category\n",
      " 8   Insurance            410000 non-null  category\n",
      "dtypes: category(9)\n",
      "memory usage: 6.6 MB\n"
     ]
    }
   ],
   "source": [
    "# Variables categoricas (en Dtype: category)\n",
    "X_cat = data[[\"Department\",\"Ward_Facility_Code\",\"doctor_name\",\"Age\",\"gender\",\n",
    "              \"Type of Admission\",\"Severity of Illness\",\"health_conditions\",\"Insurance\"]]\n",
    "X_cat.info()"
   ]
  },
  {
   "cell_type": "code",
   "execution_count": 36,
   "id": "79536977-cac4-4090-890b-bf952b68ac87",
   "metadata": {},
   "outputs": [
    {
     "data": {
      "text/plain": [
       "(410000, 47)"
      ]
     },
     "execution_count": 36,
     "metadata": {},
     "output_type": "execute_result"
    }
   ],
   "source": [
    "# Creamos un objeto OneHotEncoder:\n",
    "codificador = OneHotEncoder()\n",
    "# Transformamos las variables categoricas a númericas:\n",
    "codificacion = codificador.fit(X_cat)\n",
    "# Obtenemos el nombre de cada columna que se va a crear\n",
    "nombres_columnas = np.array([item for lista in codificador.categories_ for item in lista])\n",
    "# Creamos un array con las categorias codificadas\n",
    "X_cat_cod = codificacion.transform(X_cat).toarray()\n",
    "# Checamos su tamaño:\n",
    "X_cat_cod.shape"
   ]
  },
  {
   "cell_type": "markdown",
   "id": "a7e01b59-5126-42d7-969f-a17e1d350421",
   "metadata": {},
   "source": [
    "Observamos que esta transformación siempre incrementa nuesto número de columnas, en este caso de 8 a 47.\n",
    "\n",
    "Pasamos la variable **X_cat_cod** a DataFrame:"
   ]
  },
  {
   "cell_type": "code",
   "execution_count": 37,
   "id": "d66280ba-4c4e-487e-a0a1-79f94902483d",
   "metadata": {},
   "outputs": [
    {
     "data": {
      "text/html": [
       "<div>\n",
       "<style scoped>\n",
       "    .dataframe tbody tr th:only-of-type {\n",
       "        vertical-align: middle;\n",
       "    }\n",
       "\n",
       "    .dataframe tbody tr th {\n",
       "        vertical-align: top;\n",
       "    }\n",
       "\n",
       "    .dataframe thead th {\n",
       "        text-align: right;\n",
       "    }\n",
       "</style>\n",
       "<table border=\"1\" class=\"dataframe\">\n",
       "  <thead>\n",
       "    <tr style=\"text-align: right;\">\n",
       "      <th></th>\n",
       "      <th>TB &amp; Chest disease</th>\n",
       "      <th>anesthesia</th>\n",
       "      <th>gynecology</th>\n",
       "      <th>radiotherapy</th>\n",
       "      <th>surgery</th>\n",
       "      <th>A</th>\n",
       "      <th>B</th>\n",
       "      <th>C</th>\n",
       "      <th>D</th>\n",
       "      <th>E</th>\n",
       "      <th>...</th>\n",
       "      <th>Minor</th>\n",
       "      <th>Moderate</th>\n",
       "      <th>Asthama</th>\n",
       "      <th>Diabetes</th>\n",
       "      <th>Heart disease</th>\n",
       "      <th>High Blood Pressure</th>\n",
       "      <th>None</th>\n",
       "      <th>Other</th>\n",
       "      <th>No</th>\n",
       "      <th>Yes</th>\n",
       "    </tr>\n",
       "  </thead>\n",
       "  <tbody>\n",
       "    <tr>\n",
       "      <th>0</th>\n",
       "      <td>0.0</td>\n",
       "      <td>0.0</td>\n",
       "      <td>1.0</td>\n",
       "      <td>0.0</td>\n",
       "      <td>0.0</td>\n",
       "      <td>0.0</td>\n",
       "      <td>0.0</td>\n",
       "      <td>0.0</td>\n",
       "      <td>1.0</td>\n",
       "      <td>0.0</td>\n",
       "      <td>...</td>\n",
       "      <td>0.0</td>\n",
       "      <td>0.0</td>\n",
       "      <td>0.0</td>\n",
       "      <td>1.0</td>\n",
       "      <td>0.0</td>\n",
       "      <td>0.0</td>\n",
       "      <td>0.0</td>\n",
       "      <td>0.0</td>\n",
       "      <td>0.0</td>\n",
       "      <td>1.0</td>\n",
       "    </tr>\n",
       "    <tr>\n",
       "      <th>1</th>\n",
       "      <td>0.0</td>\n",
       "      <td>0.0</td>\n",
       "      <td>1.0</td>\n",
       "      <td>0.0</td>\n",
       "      <td>0.0</td>\n",
       "      <td>0.0</td>\n",
       "      <td>1.0</td>\n",
       "      <td>0.0</td>\n",
       "      <td>0.0</td>\n",
       "      <td>0.0</td>\n",
       "      <td>...</td>\n",
       "      <td>1.0</td>\n",
       "      <td>0.0</td>\n",
       "      <td>0.0</td>\n",
       "      <td>0.0</td>\n",
       "      <td>1.0</td>\n",
       "      <td>0.0</td>\n",
       "      <td>0.0</td>\n",
       "      <td>0.0</td>\n",
       "      <td>1.0</td>\n",
       "      <td>0.0</td>\n",
       "    </tr>\n",
       "    <tr>\n",
       "      <th>2</th>\n",
       "      <td>0.0</td>\n",
       "      <td>0.0</td>\n",
       "      <td>1.0</td>\n",
       "      <td>0.0</td>\n",
       "      <td>0.0</td>\n",
       "      <td>0.0</td>\n",
       "      <td>1.0</td>\n",
       "      <td>0.0</td>\n",
       "      <td>0.0</td>\n",
       "      <td>0.0</td>\n",
       "      <td>...</td>\n",
       "      <td>0.0</td>\n",
       "      <td>0.0</td>\n",
       "      <td>0.0</td>\n",
       "      <td>1.0</td>\n",
       "      <td>0.0</td>\n",
       "      <td>0.0</td>\n",
       "      <td>0.0</td>\n",
       "      <td>0.0</td>\n",
       "      <td>0.0</td>\n",
       "      <td>1.0</td>\n",
       "    </tr>\n",
       "    <tr>\n",
       "      <th>3</th>\n",
       "      <td>0.0</td>\n",
       "      <td>0.0</td>\n",
       "      <td>1.0</td>\n",
       "      <td>0.0</td>\n",
       "      <td>0.0</td>\n",
       "      <td>0.0</td>\n",
       "      <td>0.0</td>\n",
       "      <td>0.0</td>\n",
       "      <td>1.0</td>\n",
       "      <td>0.0</td>\n",
       "      <td>...</td>\n",
       "      <td>0.0</td>\n",
       "      <td>1.0</td>\n",
       "      <td>0.0</td>\n",
       "      <td>0.0</td>\n",
       "      <td>0.0</td>\n",
       "      <td>0.0</td>\n",
       "      <td>1.0</td>\n",
       "      <td>0.0</td>\n",
       "      <td>1.0</td>\n",
       "      <td>0.0</td>\n",
       "    </tr>\n",
       "    <tr>\n",
       "      <th>4</th>\n",
       "      <td>0.0</td>\n",
       "      <td>1.0</td>\n",
       "      <td>0.0</td>\n",
       "      <td>0.0</td>\n",
       "      <td>0.0</td>\n",
       "      <td>0.0</td>\n",
       "      <td>0.0</td>\n",
       "      <td>0.0</td>\n",
       "      <td>0.0</td>\n",
       "      <td>1.0</td>\n",
       "      <td>...</td>\n",
       "      <td>0.0</td>\n",
       "      <td>1.0</td>\n",
       "      <td>0.0</td>\n",
       "      <td>1.0</td>\n",
       "      <td>0.0</td>\n",
       "      <td>0.0</td>\n",
       "      <td>0.0</td>\n",
       "      <td>0.0</td>\n",
       "      <td>1.0</td>\n",
       "      <td>0.0</td>\n",
       "    </tr>\n",
       "    <tr>\n",
       "      <th>...</th>\n",
       "      <td>...</td>\n",
       "      <td>...</td>\n",
       "      <td>...</td>\n",
       "      <td>...</td>\n",
       "      <td>...</td>\n",
       "      <td>...</td>\n",
       "      <td>...</td>\n",
       "      <td>...</td>\n",
       "      <td>...</td>\n",
       "      <td>...</td>\n",
       "      <td>...</td>\n",
       "      <td>...</td>\n",
       "      <td>...</td>\n",
       "      <td>...</td>\n",
       "      <td>...</td>\n",
       "      <td>...</td>\n",
       "      <td>...</td>\n",
       "      <td>...</td>\n",
       "      <td>...</td>\n",
       "      <td>...</td>\n",
       "      <td>...</td>\n",
       "    </tr>\n",
       "    <tr>\n",
       "      <th>409995</th>\n",
       "      <td>0.0</td>\n",
       "      <td>0.0</td>\n",
       "      <td>1.0</td>\n",
       "      <td>0.0</td>\n",
       "      <td>0.0</td>\n",
       "      <td>0.0</td>\n",
       "      <td>0.0</td>\n",
       "      <td>0.0</td>\n",
       "      <td>1.0</td>\n",
       "      <td>0.0</td>\n",
       "      <td>...</td>\n",
       "      <td>1.0</td>\n",
       "      <td>0.0</td>\n",
       "      <td>1.0</td>\n",
       "      <td>0.0</td>\n",
       "      <td>0.0</td>\n",
       "      <td>0.0</td>\n",
       "      <td>0.0</td>\n",
       "      <td>0.0</td>\n",
       "      <td>0.0</td>\n",
       "      <td>1.0</td>\n",
       "    </tr>\n",
       "    <tr>\n",
       "      <th>409996</th>\n",
       "      <td>0.0</td>\n",
       "      <td>0.0</td>\n",
       "      <td>1.0</td>\n",
       "      <td>0.0</td>\n",
       "      <td>0.0</td>\n",
       "      <td>0.0</td>\n",
       "      <td>0.0</td>\n",
       "      <td>0.0</td>\n",
       "      <td>1.0</td>\n",
       "      <td>0.0</td>\n",
       "      <td>...</td>\n",
       "      <td>0.0</td>\n",
       "      <td>0.0</td>\n",
       "      <td>0.0</td>\n",
       "      <td>0.0</td>\n",
       "      <td>0.0</td>\n",
       "      <td>0.0</td>\n",
       "      <td>0.0</td>\n",
       "      <td>1.0</td>\n",
       "      <td>1.0</td>\n",
       "      <td>0.0</td>\n",
       "    </tr>\n",
       "    <tr>\n",
       "      <th>409997</th>\n",
       "      <td>0.0</td>\n",
       "      <td>0.0</td>\n",
       "      <td>1.0</td>\n",
       "      <td>0.0</td>\n",
       "      <td>0.0</td>\n",
       "      <td>0.0</td>\n",
       "      <td>0.0</td>\n",
       "      <td>0.0</td>\n",
       "      <td>1.0</td>\n",
       "      <td>0.0</td>\n",
       "      <td>...</td>\n",
       "      <td>1.0</td>\n",
       "      <td>0.0</td>\n",
       "      <td>1.0</td>\n",
       "      <td>0.0</td>\n",
       "      <td>0.0</td>\n",
       "      <td>0.0</td>\n",
       "      <td>0.0</td>\n",
       "      <td>0.0</td>\n",
       "      <td>0.0</td>\n",
       "      <td>1.0</td>\n",
       "    </tr>\n",
       "    <tr>\n",
       "      <th>409998</th>\n",
       "      <td>0.0</td>\n",
       "      <td>0.0</td>\n",
       "      <td>1.0</td>\n",
       "      <td>0.0</td>\n",
       "      <td>0.0</td>\n",
       "      <td>0.0</td>\n",
       "      <td>0.0</td>\n",
       "      <td>0.0</td>\n",
       "      <td>1.0</td>\n",
       "      <td>0.0</td>\n",
       "      <td>...</td>\n",
       "      <td>0.0</td>\n",
       "      <td>1.0</td>\n",
       "      <td>0.0</td>\n",
       "      <td>0.0</td>\n",
       "      <td>0.0</td>\n",
       "      <td>0.0</td>\n",
       "      <td>0.0</td>\n",
       "      <td>1.0</td>\n",
       "      <td>0.0</td>\n",
       "      <td>1.0</td>\n",
       "    </tr>\n",
       "    <tr>\n",
       "      <th>409999</th>\n",
       "      <td>0.0</td>\n",
       "      <td>0.0</td>\n",
       "      <td>1.0</td>\n",
       "      <td>0.0</td>\n",
       "      <td>0.0</td>\n",
       "      <td>0.0</td>\n",
       "      <td>0.0</td>\n",
       "      <td>0.0</td>\n",
       "      <td>0.0</td>\n",
       "      <td>0.0</td>\n",
       "      <td>...</td>\n",
       "      <td>1.0</td>\n",
       "      <td>0.0</td>\n",
       "      <td>0.0</td>\n",
       "      <td>0.0</td>\n",
       "      <td>0.0</td>\n",
       "      <td>0.0</td>\n",
       "      <td>0.0</td>\n",
       "      <td>1.0</td>\n",
       "      <td>0.0</td>\n",
       "      <td>1.0</td>\n",
       "    </tr>\n",
       "  </tbody>\n",
       "</table>\n",
       "<p>410000 rows × 47 columns</p>\n",
       "</div>"
      ],
      "text/plain": [
       "        TB & Chest disease  anesthesia  gynecology  radiotherapy  surgery  \\\n",
       "0                      0.0         0.0         1.0           0.0      0.0   \n",
       "1                      0.0         0.0         1.0           0.0      0.0   \n",
       "2                      0.0         0.0         1.0           0.0      0.0   \n",
       "3                      0.0         0.0         1.0           0.0      0.0   \n",
       "4                      0.0         1.0         0.0           0.0      0.0   \n",
       "...                    ...         ...         ...           ...      ...   \n",
       "409995                 0.0         0.0         1.0           0.0      0.0   \n",
       "409996                 0.0         0.0         1.0           0.0      0.0   \n",
       "409997                 0.0         0.0         1.0           0.0      0.0   \n",
       "409998                 0.0         0.0         1.0           0.0      0.0   \n",
       "409999                 0.0         0.0         1.0           0.0      0.0   \n",
       "\n",
       "          A    B    C    D    E  ...  Minor  Moderate  Asthama  Diabetes  \\\n",
       "0       0.0  0.0  0.0  1.0  0.0  ...    0.0       0.0      0.0       1.0   \n",
       "1       0.0  1.0  0.0  0.0  0.0  ...    1.0       0.0      0.0       0.0   \n",
       "2       0.0  1.0  0.0  0.0  0.0  ...    0.0       0.0      0.0       1.0   \n",
       "3       0.0  0.0  0.0  1.0  0.0  ...    0.0       1.0      0.0       0.0   \n",
       "4       0.0  0.0  0.0  0.0  1.0  ...    0.0       1.0      0.0       1.0   \n",
       "...     ...  ...  ...  ...  ...  ...    ...       ...      ...       ...   \n",
       "409995  0.0  0.0  0.0  1.0  0.0  ...    1.0       0.0      1.0       0.0   \n",
       "409996  0.0  0.0  0.0  1.0  0.0  ...    0.0       0.0      0.0       0.0   \n",
       "409997  0.0  0.0  0.0  1.0  0.0  ...    1.0       0.0      1.0       0.0   \n",
       "409998  0.0  0.0  0.0  1.0  0.0  ...    0.0       1.0      0.0       0.0   \n",
       "409999  0.0  0.0  0.0  0.0  0.0  ...    1.0       0.0      0.0       0.0   \n",
       "\n",
       "        Heart disease  High Blood Pressure  None  Other   No  Yes  \n",
       "0                 0.0                  0.0   0.0    0.0  0.0  1.0  \n",
       "1                 1.0                  0.0   0.0    0.0  1.0  0.0  \n",
       "2                 0.0                  0.0   0.0    0.0  0.0  1.0  \n",
       "3                 0.0                  0.0   1.0    0.0  1.0  0.0  \n",
       "4                 0.0                  0.0   0.0    0.0  1.0  0.0  \n",
       "...               ...                  ...   ...    ...  ...  ...  \n",
       "409995            0.0                  0.0   0.0    0.0  0.0  1.0  \n",
       "409996            0.0                  0.0   0.0    1.0  1.0  0.0  \n",
       "409997            0.0                  0.0   0.0    0.0  0.0  1.0  \n",
       "409998            0.0                  0.0   0.0    1.0  0.0  1.0  \n",
       "409999            0.0                  0.0   0.0    1.0  0.0  1.0  \n",
       "\n",
       "[410000 rows x 47 columns]"
      ]
     },
     "execution_count": 37,
     "metadata": {},
     "output_type": "execute_result"
    }
   ],
   "source": [
    "# Creamos el DataFrame\n",
    "X_cat = pd.DataFrame(X_cat_cod, columns=nombres_columnas)\n",
    "X_cat"
   ]
  },
  {
   "cell_type": "markdown",
   "id": "43c39e8b-9d97-4869-ab47-ed7168a131cc",
   "metadata": {},
   "source": [
    "## Variables numéricas a utilizar en el modelo.\n",
    "\n",
    "Aquí creamos un DataFrame que contenga solo variables numéricas de las columnas 'Available Extra Rooms in Hospital', 'staff_available', 'Visitors with Patient' y 'Admission_Deposit' (no incluye a nuestra columna **Stay (in days)**, ya que esta es la columna objetivo). "
   ]
  },
  {
   "cell_type": "code",
   "execution_count": 38,
   "id": "711e9375-84d4-4040-b59a-5cc1a40eb5ba",
   "metadata": {},
   "outputs": [
    {
     "data": {
      "text/html": [
       "<div>\n",
       "<style scoped>\n",
       "    .dataframe tbody tr th:only-of-type {\n",
       "        vertical-align: middle;\n",
       "    }\n",
       "\n",
       "    .dataframe tbody tr th {\n",
       "        vertical-align: top;\n",
       "    }\n",
       "\n",
       "    .dataframe thead th {\n",
       "        text-align: right;\n",
       "    }\n",
       "</style>\n",
       "<table border=\"1\" class=\"dataframe\">\n",
       "  <thead>\n",
       "    <tr style=\"text-align: right;\">\n",
       "      <th></th>\n",
       "      <th>Available Extra Rooms in Hospital</th>\n",
       "      <th>staff_available</th>\n",
       "      <th>Visitors with Patient</th>\n",
       "      <th>Admission_Deposit</th>\n",
       "    </tr>\n",
       "  </thead>\n",
       "  <tbody>\n",
       "    <tr>\n",
       "      <th>0</th>\n",
       "      <td>4</td>\n",
       "      <td>0</td>\n",
       "      <td>4</td>\n",
       "      <td>2966.408696</td>\n",
       "    </tr>\n",
       "    <tr>\n",
       "      <th>1</th>\n",
       "      <td>4</td>\n",
       "      <td>2</td>\n",
       "      <td>2</td>\n",
       "      <td>3554.835677</td>\n",
       "    </tr>\n",
       "    <tr>\n",
       "      <th>2</th>\n",
       "      <td>2</td>\n",
       "      <td>8</td>\n",
       "      <td>2</td>\n",
       "      <td>5624.733654</td>\n",
       "    </tr>\n",
       "    <tr>\n",
       "      <th>3</th>\n",
       "      <td>4</td>\n",
       "      <td>7</td>\n",
       "      <td>4</td>\n",
       "      <td>4814.149231</td>\n",
       "    </tr>\n",
       "    <tr>\n",
       "      <th>4</th>\n",
       "      <td>2</td>\n",
       "      <td>10</td>\n",
       "      <td>2</td>\n",
       "      <td>5169.269637</td>\n",
       "    </tr>\n",
       "    <tr>\n",
       "      <th>...</th>\n",
       "      <td>...</td>\n",
       "      <td>...</td>\n",
       "      <td>...</td>\n",
       "      <td>...</td>\n",
       "    </tr>\n",
       "    <tr>\n",
       "      <th>409995</th>\n",
       "      <td>1</td>\n",
       "      <td>1</td>\n",
       "      <td>3</td>\n",
       "      <td>3902.291076</td>\n",
       "    </tr>\n",
       "    <tr>\n",
       "      <th>409996</th>\n",
       "      <td>5</td>\n",
       "      <td>5</td>\n",
       "      <td>4</td>\n",
       "      <td>4771.995223</td>\n",
       "    </tr>\n",
       "    <tr>\n",
       "      <th>409997</th>\n",
       "      <td>4</td>\n",
       "      <td>9</td>\n",
       "      <td>4</td>\n",
       "      <td>3816.994210</td>\n",
       "    </tr>\n",
       "    <tr>\n",
       "      <th>409998</th>\n",
       "      <td>10</td>\n",
       "      <td>10</td>\n",
       "      <td>2</td>\n",
       "      <td>3841.577491</td>\n",
       "    </tr>\n",
       "    <tr>\n",
       "      <th>409999</th>\n",
       "      <td>3</td>\n",
       "      <td>0</td>\n",
       "      <td>8</td>\n",
       "      <td>4329.046412</td>\n",
       "    </tr>\n",
       "  </tbody>\n",
       "</table>\n",
       "<p>410000 rows × 4 columns</p>\n",
       "</div>"
      ],
      "text/plain": [
       "        Available Extra Rooms in Hospital  staff_available  \\\n",
       "0                                       4                0   \n",
       "1                                       4                2   \n",
       "2                                       2                8   \n",
       "3                                       4                7   \n",
       "4                                       2               10   \n",
       "...                                   ...              ...   \n",
       "409995                                  1                1   \n",
       "409996                                  5                5   \n",
       "409997                                  4                9   \n",
       "409998                                 10               10   \n",
       "409999                                  3                0   \n",
       "\n",
       "        Visitors with Patient  Admission_Deposit  \n",
       "0                           4        2966.408696  \n",
       "1                           2        3554.835677  \n",
       "2                           2        5624.733654  \n",
       "3                           4        4814.149231  \n",
       "4                           2        5169.269637  \n",
       "...                       ...                ...  \n",
       "409995                      3        3902.291076  \n",
       "409996                      4        4771.995223  \n",
       "409997                      4        3816.994210  \n",
       "409998                      2        3841.577491  \n",
       "409999                      8        4329.046412  \n",
       "\n",
       "[410000 rows x 4 columns]"
      ]
     },
     "execution_count": 38,
     "metadata": {},
     "output_type": "execute_result"
    }
   ],
   "source": [
    "# Notemos que hemos elminado la columna objetivo: 'Stay (in days)'.\n",
    "X_numerical = data[['Available Extra Rooms in Hospital','staff_available','Visitors with Patient','Admission_Deposit']]\n",
    "X_numerical"
   ]
  },
  {
   "cell_type": "markdown",
   "id": "bd01b406-1000-47b7-9587-9c340bbc57dd",
   "metadata": {},
   "source": [
    "## Escalado de datos.\n",
    "\n",
    "Como tenémos dos DataFrame, **X_cat** y **X_numerical**. Tenemos que unirlos para poder trabajarlos como uno solo (para train y test) y asi poder escalarlo."
   ]
  },
  {
   "cell_type": "code",
   "execution_count": 39,
   "id": "a71cd84f-08f9-458b-b2b7-24dcfb33f4e8",
   "metadata": {},
   "outputs": [
    {
     "data": {
      "text/html": [
       "<div>\n",
       "<style scoped>\n",
       "    .dataframe tbody tr th:only-of-type {\n",
       "        vertical-align: middle;\n",
       "    }\n",
       "\n",
       "    .dataframe tbody tr th {\n",
       "        vertical-align: top;\n",
       "    }\n",
       "\n",
       "    .dataframe thead th {\n",
       "        text-align: right;\n",
       "    }\n",
       "</style>\n",
       "<table border=\"1\" class=\"dataframe\">\n",
       "  <thead>\n",
       "    <tr style=\"text-align: right;\">\n",
       "      <th></th>\n",
       "      <th>TB &amp; Chest disease</th>\n",
       "      <th>anesthesia</th>\n",
       "      <th>gynecology</th>\n",
       "      <th>radiotherapy</th>\n",
       "      <th>surgery</th>\n",
       "      <th>A</th>\n",
       "      <th>B</th>\n",
       "      <th>C</th>\n",
       "      <th>D</th>\n",
       "      <th>E</th>\n",
       "      <th>...</th>\n",
       "      <th>Heart disease</th>\n",
       "      <th>High Blood Pressure</th>\n",
       "      <th>None</th>\n",
       "      <th>Other</th>\n",
       "      <th>No</th>\n",
       "      <th>Yes</th>\n",
       "      <th>Available Extra Rooms in Hospital</th>\n",
       "      <th>staff_available</th>\n",
       "      <th>Visitors with Patient</th>\n",
       "      <th>Admission_Deposit</th>\n",
       "    </tr>\n",
       "  </thead>\n",
       "  <tbody>\n",
       "    <tr>\n",
       "      <th>0</th>\n",
       "      <td>0.0</td>\n",
       "      <td>0.0</td>\n",
       "      <td>1.0</td>\n",
       "      <td>0.0</td>\n",
       "      <td>0.0</td>\n",
       "      <td>0.0</td>\n",
       "      <td>0.0</td>\n",
       "      <td>0.0</td>\n",
       "      <td>1.0</td>\n",
       "      <td>0.0</td>\n",
       "      <td>...</td>\n",
       "      <td>0.0</td>\n",
       "      <td>0.0</td>\n",
       "      <td>0.0</td>\n",
       "      <td>0.0</td>\n",
       "      <td>0.0</td>\n",
       "      <td>1.0</td>\n",
       "      <td>4</td>\n",
       "      <td>0</td>\n",
       "      <td>4</td>\n",
       "      <td>2966.408696</td>\n",
       "    </tr>\n",
       "    <tr>\n",
       "      <th>1</th>\n",
       "      <td>0.0</td>\n",
       "      <td>0.0</td>\n",
       "      <td>1.0</td>\n",
       "      <td>0.0</td>\n",
       "      <td>0.0</td>\n",
       "      <td>0.0</td>\n",
       "      <td>1.0</td>\n",
       "      <td>0.0</td>\n",
       "      <td>0.0</td>\n",
       "      <td>0.0</td>\n",
       "      <td>...</td>\n",
       "      <td>1.0</td>\n",
       "      <td>0.0</td>\n",
       "      <td>0.0</td>\n",
       "      <td>0.0</td>\n",
       "      <td>1.0</td>\n",
       "      <td>0.0</td>\n",
       "      <td>4</td>\n",
       "      <td>2</td>\n",
       "      <td>2</td>\n",
       "      <td>3554.835677</td>\n",
       "    </tr>\n",
       "    <tr>\n",
       "      <th>2</th>\n",
       "      <td>0.0</td>\n",
       "      <td>0.0</td>\n",
       "      <td>1.0</td>\n",
       "      <td>0.0</td>\n",
       "      <td>0.0</td>\n",
       "      <td>0.0</td>\n",
       "      <td>1.0</td>\n",
       "      <td>0.0</td>\n",
       "      <td>0.0</td>\n",
       "      <td>0.0</td>\n",
       "      <td>...</td>\n",
       "      <td>0.0</td>\n",
       "      <td>0.0</td>\n",
       "      <td>0.0</td>\n",
       "      <td>0.0</td>\n",
       "      <td>0.0</td>\n",
       "      <td>1.0</td>\n",
       "      <td>2</td>\n",
       "      <td>8</td>\n",
       "      <td>2</td>\n",
       "      <td>5624.733654</td>\n",
       "    </tr>\n",
       "    <tr>\n",
       "      <th>3</th>\n",
       "      <td>0.0</td>\n",
       "      <td>0.0</td>\n",
       "      <td>1.0</td>\n",
       "      <td>0.0</td>\n",
       "      <td>0.0</td>\n",
       "      <td>0.0</td>\n",
       "      <td>0.0</td>\n",
       "      <td>0.0</td>\n",
       "      <td>1.0</td>\n",
       "      <td>0.0</td>\n",
       "      <td>...</td>\n",
       "      <td>0.0</td>\n",
       "      <td>0.0</td>\n",
       "      <td>1.0</td>\n",
       "      <td>0.0</td>\n",
       "      <td>1.0</td>\n",
       "      <td>0.0</td>\n",
       "      <td>4</td>\n",
       "      <td>7</td>\n",
       "      <td>4</td>\n",
       "      <td>4814.149231</td>\n",
       "    </tr>\n",
       "    <tr>\n",
       "      <th>4</th>\n",
       "      <td>0.0</td>\n",
       "      <td>1.0</td>\n",
       "      <td>0.0</td>\n",
       "      <td>0.0</td>\n",
       "      <td>0.0</td>\n",
       "      <td>0.0</td>\n",
       "      <td>0.0</td>\n",
       "      <td>0.0</td>\n",
       "      <td>0.0</td>\n",
       "      <td>1.0</td>\n",
       "      <td>...</td>\n",
       "      <td>0.0</td>\n",
       "      <td>0.0</td>\n",
       "      <td>0.0</td>\n",
       "      <td>0.0</td>\n",
       "      <td>1.0</td>\n",
       "      <td>0.0</td>\n",
       "      <td>2</td>\n",
       "      <td>10</td>\n",
       "      <td>2</td>\n",
       "      <td>5169.269637</td>\n",
       "    </tr>\n",
       "    <tr>\n",
       "      <th>...</th>\n",
       "      <td>...</td>\n",
       "      <td>...</td>\n",
       "      <td>...</td>\n",
       "      <td>...</td>\n",
       "      <td>...</td>\n",
       "      <td>...</td>\n",
       "      <td>...</td>\n",
       "      <td>...</td>\n",
       "      <td>...</td>\n",
       "      <td>...</td>\n",
       "      <td>...</td>\n",
       "      <td>...</td>\n",
       "      <td>...</td>\n",
       "      <td>...</td>\n",
       "      <td>...</td>\n",
       "      <td>...</td>\n",
       "      <td>...</td>\n",
       "      <td>...</td>\n",
       "      <td>...</td>\n",
       "      <td>...</td>\n",
       "      <td>...</td>\n",
       "    </tr>\n",
       "    <tr>\n",
       "      <th>409995</th>\n",
       "      <td>0.0</td>\n",
       "      <td>0.0</td>\n",
       "      <td>1.0</td>\n",
       "      <td>0.0</td>\n",
       "      <td>0.0</td>\n",
       "      <td>0.0</td>\n",
       "      <td>0.0</td>\n",
       "      <td>0.0</td>\n",
       "      <td>1.0</td>\n",
       "      <td>0.0</td>\n",
       "      <td>...</td>\n",
       "      <td>0.0</td>\n",
       "      <td>0.0</td>\n",
       "      <td>0.0</td>\n",
       "      <td>0.0</td>\n",
       "      <td>0.0</td>\n",
       "      <td>1.0</td>\n",
       "      <td>1</td>\n",
       "      <td>1</td>\n",
       "      <td>3</td>\n",
       "      <td>3902.291076</td>\n",
       "    </tr>\n",
       "    <tr>\n",
       "      <th>409996</th>\n",
       "      <td>0.0</td>\n",
       "      <td>0.0</td>\n",
       "      <td>1.0</td>\n",
       "      <td>0.0</td>\n",
       "      <td>0.0</td>\n",
       "      <td>0.0</td>\n",
       "      <td>0.0</td>\n",
       "      <td>0.0</td>\n",
       "      <td>1.0</td>\n",
       "      <td>0.0</td>\n",
       "      <td>...</td>\n",
       "      <td>0.0</td>\n",
       "      <td>0.0</td>\n",
       "      <td>0.0</td>\n",
       "      <td>1.0</td>\n",
       "      <td>1.0</td>\n",
       "      <td>0.0</td>\n",
       "      <td>5</td>\n",
       "      <td>5</td>\n",
       "      <td>4</td>\n",
       "      <td>4771.995223</td>\n",
       "    </tr>\n",
       "    <tr>\n",
       "      <th>409997</th>\n",
       "      <td>0.0</td>\n",
       "      <td>0.0</td>\n",
       "      <td>1.0</td>\n",
       "      <td>0.0</td>\n",
       "      <td>0.0</td>\n",
       "      <td>0.0</td>\n",
       "      <td>0.0</td>\n",
       "      <td>0.0</td>\n",
       "      <td>1.0</td>\n",
       "      <td>0.0</td>\n",
       "      <td>...</td>\n",
       "      <td>0.0</td>\n",
       "      <td>0.0</td>\n",
       "      <td>0.0</td>\n",
       "      <td>0.0</td>\n",
       "      <td>0.0</td>\n",
       "      <td>1.0</td>\n",
       "      <td>4</td>\n",
       "      <td>9</td>\n",
       "      <td>4</td>\n",
       "      <td>3816.994210</td>\n",
       "    </tr>\n",
       "    <tr>\n",
       "      <th>409998</th>\n",
       "      <td>0.0</td>\n",
       "      <td>0.0</td>\n",
       "      <td>1.0</td>\n",
       "      <td>0.0</td>\n",
       "      <td>0.0</td>\n",
       "      <td>0.0</td>\n",
       "      <td>0.0</td>\n",
       "      <td>0.0</td>\n",
       "      <td>1.0</td>\n",
       "      <td>0.0</td>\n",
       "      <td>...</td>\n",
       "      <td>0.0</td>\n",
       "      <td>0.0</td>\n",
       "      <td>0.0</td>\n",
       "      <td>1.0</td>\n",
       "      <td>0.0</td>\n",
       "      <td>1.0</td>\n",
       "      <td>10</td>\n",
       "      <td>10</td>\n",
       "      <td>2</td>\n",
       "      <td>3841.577491</td>\n",
       "    </tr>\n",
       "    <tr>\n",
       "      <th>409999</th>\n",
       "      <td>0.0</td>\n",
       "      <td>0.0</td>\n",
       "      <td>1.0</td>\n",
       "      <td>0.0</td>\n",
       "      <td>0.0</td>\n",
       "      <td>0.0</td>\n",
       "      <td>0.0</td>\n",
       "      <td>0.0</td>\n",
       "      <td>0.0</td>\n",
       "      <td>0.0</td>\n",
       "      <td>...</td>\n",
       "      <td>0.0</td>\n",
       "      <td>0.0</td>\n",
       "      <td>0.0</td>\n",
       "      <td>1.0</td>\n",
       "      <td>0.0</td>\n",
       "      <td>1.0</td>\n",
       "      <td>3</td>\n",
       "      <td>0</td>\n",
       "      <td>8</td>\n",
       "      <td>4329.046412</td>\n",
       "    </tr>\n",
       "  </tbody>\n",
       "</table>\n",
       "<p>410000 rows × 51 columns</p>\n",
       "</div>"
      ],
      "text/plain": [
       "        TB & Chest disease  anesthesia  gynecology  radiotherapy  surgery  \\\n",
       "0                      0.0         0.0         1.0           0.0      0.0   \n",
       "1                      0.0         0.0         1.0           0.0      0.0   \n",
       "2                      0.0         0.0         1.0           0.0      0.0   \n",
       "3                      0.0         0.0         1.0           0.0      0.0   \n",
       "4                      0.0         1.0         0.0           0.0      0.0   \n",
       "...                    ...         ...         ...           ...      ...   \n",
       "409995                 0.0         0.0         1.0           0.0      0.0   \n",
       "409996                 0.0         0.0         1.0           0.0      0.0   \n",
       "409997                 0.0         0.0         1.0           0.0      0.0   \n",
       "409998                 0.0         0.0         1.0           0.0      0.0   \n",
       "409999                 0.0         0.0         1.0           0.0      0.0   \n",
       "\n",
       "          A    B    C    D    E  ...  Heart disease  High Blood Pressure  \\\n",
       "0       0.0  0.0  0.0  1.0  0.0  ...            0.0                  0.0   \n",
       "1       0.0  1.0  0.0  0.0  0.0  ...            1.0                  0.0   \n",
       "2       0.0  1.0  0.0  0.0  0.0  ...            0.0                  0.0   \n",
       "3       0.0  0.0  0.0  1.0  0.0  ...            0.0                  0.0   \n",
       "4       0.0  0.0  0.0  0.0  1.0  ...            0.0                  0.0   \n",
       "...     ...  ...  ...  ...  ...  ...            ...                  ...   \n",
       "409995  0.0  0.0  0.0  1.0  0.0  ...            0.0                  0.0   \n",
       "409996  0.0  0.0  0.0  1.0  0.0  ...            0.0                  0.0   \n",
       "409997  0.0  0.0  0.0  1.0  0.0  ...            0.0                  0.0   \n",
       "409998  0.0  0.0  0.0  1.0  0.0  ...            0.0                  0.0   \n",
       "409999  0.0  0.0  0.0  0.0  0.0  ...            0.0                  0.0   \n",
       "\n",
       "        None  Other   No  Yes  Available Extra Rooms in Hospital  \\\n",
       "0        0.0    0.0  0.0  1.0                                  4   \n",
       "1        0.0    0.0  1.0  0.0                                  4   \n",
       "2        0.0    0.0  0.0  1.0                                  2   \n",
       "3        1.0    0.0  1.0  0.0                                  4   \n",
       "4        0.0    0.0  1.0  0.0                                  2   \n",
       "...      ...    ...  ...  ...                                ...   \n",
       "409995   0.0    0.0  0.0  1.0                                  1   \n",
       "409996   0.0    1.0  1.0  0.0                                  5   \n",
       "409997   0.0    0.0  0.0  1.0                                  4   \n",
       "409998   0.0    1.0  0.0  1.0                                 10   \n",
       "409999   0.0    1.0  0.0  1.0                                  3   \n",
       "\n",
       "        staff_available  Visitors with Patient  Admission_Deposit  \n",
       "0                     0                      4        2966.408696  \n",
       "1                     2                      2        3554.835677  \n",
       "2                     8                      2        5624.733654  \n",
       "3                     7                      4        4814.149231  \n",
       "4                    10                      2        5169.269637  \n",
       "...                 ...                    ...                ...  \n",
       "409995                1                      3        3902.291076  \n",
       "409996                5                      4        4771.995223  \n",
       "409997                9                      4        3816.994210  \n",
       "409998               10                      2        3841.577491  \n",
       "409999                0                      8        4329.046412  \n",
       "\n",
       "[410000 rows x 51 columns]"
      ]
     },
     "execution_count": 39,
     "metadata": {},
     "output_type": "execute_result"
    }
   ],
   "source": [
    "# Concatenamos ambos DataFrame para tener uno solo relacionado:\n",
    "X_all = pd.concat([X_cat, X_numerical], axis = 1)\n",
    "X_all"
   ]
  },
  {
   "cell_type": "markdown",
   "id": "809caa81-b406-403c-9124-d54fd4101000",
   "metadata": {},
   "source": [
    "El escalado va a transformar los valores de las variables de forma que estén confinados en un rango $[a, b]$, típicamente $[0, 1]$ o $[-1, 1]$. Esto ayuda a que los modelos de **Machine Learning** usen todos los datos de manera uniforme y no haya sesgos hacia una variable debido a su tamaño con respecto a otra.\n",
    "\n",
    "Para realizar esto, utilizaremos la libreria de **sklearn** que nos da acceso a una función llamada **MinMaxScaler** que escalará los datos."
   ]
  },
  {
   "cell_type": "code",
   "execution_count": 40,
   "id": "82fb9684-e0f3-4189-ab18-e3a0e7c69f18",
   "metadata": {},
   "outputs": [
    {
     "data": {
      "text/plain": [
       "array([[0.        , 0.        , 1.        , ..., 0.        , 0.125     ,\n",
       "        0.15530077],\n",
       "       [0.        , 0.        , 1.        , ..., 0.2       , 0.0625    ,\n",
       "        0.22493116],\n",
       "       [0.        , 0.        , 1.        , ..., 0.8       , 0.0625    ,\n",
       "        0.46986859],\n",
       "       ...,\n",
       "       [0.        , 0.        , 1.        , ..., 0.9       , 0.125     ,\n",
       "        0.25595319],\n",
       "       [0.        , 0.        , 1.        , ..., 1.        , 0.0625    ,\n",
       "        0.25886221],\n",
       "       [0.        , 0.        , 1.        , ..., 0.        , 0.25      ,\n",
       "        0.31654591]])"
      ]
     },
     "execution_count": 40,
     "metadata": {},
     "output_type": "execute_result"
    }
   ],
   "source": [
    "# Creamos un objeto de MinMaxScaler:\n",
    "scaler = MinMaxScaler()\n",
    "# Ingresamos el DataFrame\n",
    "scaler.fit(X_all)\n",
    "# Transformamos las variables escaladas:\n",
    "X = scaler.transform(X_all)\n",
    "X"
   ]
  },
  {
   "cell_type": "markdown",
   "id": "8a7549bd-70c6-4d85-a81f-ee7fa86e9e3a",
   "metadata": {},
   "source": [
    "# Pipeline del preprocesamiento de datos"
   ]
  },
  {
   "cell_type": "code",
   "execution_count": 48,
   "id": "0e26b057-0ee0-47f8-9bce-edfd6e9f704f",
   "metadata": {},
   "outputs": [
    {
     "data": {
      "text/plain": [
       "array([[0.        , 0.        , 1.        , ..., 0.        , 0.125     ,\n",
       "        0.15530077],\n",
       "       [0.        , 0.        , 1.        , ..., 0.2       , 0.0625    ,\n",
       "        0.22493116],\n",
       "       [0.        , 0.        , 1.        , ..., 0.8       , 0.0625    ,\n",
       "        0.46986859],\n",
       "       ...,\n",
       "       [0.        , 0.        , 1.        , ..., 0.9       , 0.125     ,\n",
       "        0.25595319],\n",
       "       [0.        , 0.        , 1.        , ..., 1.        , 0.0625    ,\n",
       "        0.25886221],\n",
       "       [0.        , 0.        , 1.        , ..., 0.        , 0.25      ,\n",
       "        0.31654591]])"
      ]
     },
     "execution_count": 48,
     "metadata": {},
     "output_type": "execute_result"
    }
   ],
   "source": [
    "# Clases del Pipeline\n",
    "class vars_categoricas():\n",
    "    '''Codificación de variables categoricas'''\n",
    "    def fit(self, X, y=None):\n",
    "        return self\n",
    "    \n",
    "    def transform(self, X):\n",
    "        # Variables categoricas (en Dtype: category)\n",
    "        X_cat = X[[\"Department\",\"Ward_Facility_Code\",\"doctor_name\",\"Age\",\"gender\",\"Type of Admission\",\n",
    "                   \"Severity of Illness\",\"health_conditions\",\"Insurance\"]]\n",
    "        # Creamos un objeto OneHotEncoder:\n",
    "        codificador = OneHotEncoder()\n",
    "        # Transformamos las variables categoricas a númericas:\n",
    "        codificacion = codificador.fit(X_cat)\n",
    "        # Obtenemos el nombre de cada columna que se va a crear\n",
    "        nombres_columnas = np.array([item for lista in codificador.categories_ for item in lista])\n",
    "        # Creamos un array con las categorias codificadas\n",
    "        X_cat_cod = codificacion.transform(X_cat).toarray()\n",
    "        # Creamos el DataFrame\n",
    "        X = pd.DataFrame(X_cat_cod, columns=nombres_columnas)\n",
    "        return X\n",
    "    \n",
    "class vars_numericas():\n",
    "    '''Variables numéricas de todo el dataset'''\n",
    "    def __init__(self, X_dat):\n",
    "        self.X_dat = X_dat\n",
    "        \n",
    "    def fit(self, X, y=None):\n",
    "        return self\n",
    "    \n",
    "    def transform(self, X):\n",
    "        # Variables numericas\n",
    "        X_numerical = self.X_dat[['Available Extra Rooms in Hospital','staff_available','Visitors with Patient','Admission_Deposit']]\n",
    "        # Concatenamos ambos DataFrame para tener uno solo relacionado:\n",
    "        X_all = pd.concat([X, X_numerical], axis = 1)\n",
    "        return X_all\n",
    "    \n",
    "class Escalar():\n",
    "    '''Escalado de datos'''\n",
    "    def fit(self, X, y=None):\n",
    "        return self\n",
    "    \n",
    "    def transform(self, X):\n",
    "        # Creamos un objeto de MinMaxScaler:\n",
    "        scaler = MinMaxScaler()\n",
    "        # Ingresamos el DataFrame\n",
    "        scaler.fit(X)\n",
    "        # Transformamos las variables escaladas:\n",
    "        X = scaler.transform(X)\n",
    "        return X\n",
    "        \n",
    "pipe_prepro = Pipeline([\n",
    "    ('vars_cat', vars_categoricas()),\n",
    "    ('vars_num', vars_numericas(data)),\n",
    "    ('escalado', Escalar())\n",
    "])\n",
    "\n",
    "X = pipe_prepro.transform(data)\n",
    "X"
   ]
  },
  {
   "cell_type": "markdown",
   "id": "32421ea4-6446-403a-ab96-3f8f66c0a97e",
   "metadata": {},
   "source": [
    "## Vector de predicciones (objetivo)\n",
    "\n",
    "Este es el vector que usarémos para entrenar nuestro modelo de Machine Learning"
   ]
  },
  {
   "cell_type": "code",
   "execution_count": 54,
   "id": "b60387d0-02aa-4875-9ebb-af311e8a91de",
   "metadata": {},
   "outputs": [
    {
     "data": {
      "text/plain": [
       "0         0\n",
       "1         1\n",
       "2         0\n",
       "3         0\n",
       "4         1\n",
       "         ..\n",
       "409995    0\n",
       "409996    1\n",
       "409997    1\n",
       "409998    1\n",
       "409999    0\n",
       "Name: Stay (in days), Length: 410000, dtype: int64"
      ]
     },
     "execution_count": 54,
     "metadata": {},
     "output_type": "execute_result"
    }
   ],
   "source": [
    "# Variable dependiente\n",
    "y = data['Stay (in days)']\n",
    "y"
   ]
  },
  {
   "cell_type": "markdown",
   "id": "2030b8c5-bf74-4249-bd55-72dd408fb731",
   "metadata": {},
   "source": [
    "# Procesamiento de datos"
   ]
  },
  {
   "cell_type": "markdown",
   "id": "b5db8445-9cc6-47a1-9185-39a1aba07acd",
   "metadata": {},
   "source": [
    "## Set de entrenamiento y de prueba.\n",
    "\n",
    "Lo primero que haremos será dividir el conjunto de entrenamiento en un 75% para crear el modelo y el otro 25% para probar el modelo, verificamos los resultados y asi asegurar que no tiene **Overfitting**.\n",
    "\n",
    "Para realizar esto, utilizaremos la libreria de **sklearn** que nos da acceso a una función llamada **train_test_split** que nos dará los datos de entrenamiento (X_train, y_train) y prueba (X_test, y_test)."
   ]
  },
  {
   "cell_type": "code",
   "execution_count": 55,
   "id": "fc0e7b95-e818-4a2e-a7bb-eabe334a157c",
   "metadata": {},
   "outputs": [
    {
     "name": "stdout",
     "output_type": "stream",
     "text": [
      "Sets de entrenamiento y prueba listos !!!\n"
     ]
    }
   ],
   "source": [
    "# Creamos los datos de entrenamiento y prueba:\n",
    "X_train, X_test, y_train, y_test = train_test_split(X, y, test_size = 0.25) # 25% para entrenamiento\n",
    "\n",
    "print('Sets de entrenamiento y prueba listos !!!')"
   ]
  },
  {
   "cell_type": "code",
   "execution_count": 56,
   "id": "5ea18e56-27ad-4ce5-9869-69d229d21ce7",
   "metadata": {},
   "outputs": [
    {
     "data": {
      "text/plain": [
       "(307500, 51)"
      ]
     },
     "execution_count": 56,
     "metadata": {},
     "output_type": "execute_result"
    }
   ],
   "source": [
    "# Tamaño del modelo de entrenamiento:\n",
    "X_train.shape"
   ]
  },
  {
   "cell_type": "code",
   "execution_count": 57,
   "id": "84390333-23bd-4138-bad4-043c1f9a64c0",
   "metadata": {},
   "outputs": [
    {
     "data": {
      "text/plain": [
       "(102500, 51)"
      ]
     },
     "execution_count": 57,
     "metadata": {},
     "output_type": "execute_result"
    }
   ],
   "source": [
    "# Tamaño del modelo de prueba:\n",
    "X_test.shape"
   ]
  },
  {
   "cell_type": "markdown",
   "id": "19defdd7-1d21-4e9c-acdf-7ccd12cd0ce2",
   "metadata": {},
   "source": [
    "## Regresión Logística.\n",
    "\n",
    "El primer modelo de Machine Learning que usarémos será el de **Regresión Logística.**\n",
    "\n",
    "Utilizaremos la libreria de **sklearn.linear_model** que nos da acceso a una función llamada **LogisticRegression** para usar la regresión logística y **sklearn.metrics** que nos da acceso a las funciones  **accuracy_score** y **recall_score** para obtener la tasa de acierto."
   ]
  },
  {
   "cell_type": "markdown",
   "id": "35717daa-f807-48d7-ac00-cdc050f661d8",
   "metadata": {},
   "source": [
    "### Evaluacion simple del modelo\n",
    "\n",
    "Evaluamos la forma simple del modelo para saber que tan buena es nuestra predicción"
   ]
  },
  {
   "cell_type": "code",
   "execution_count": 63,
   "id": "06433fd5-228f-407f-8dc5-680c61ae0edf",
   "metadata": {},
   "outputs": [
    {
     "name": "stdout",
     "output_type": "stream",
     "text": [
      "Recall: 69.53 %\n",
      "Accuracy: 65.9 %\n"
     ]
    }
   ],
   "source": [
    "# Creamos un objeto de LogisticRegression:\n",
    "model_lr = LogisticRegression(max_iter=1000)\n",
    "\n",
    "# Cremos el modelo para predecir usando los datos de entrenamiento:\n",
    "model_lr.fit(X_train, y_train)\n",
    "\n",
    "# Hacemos la predicción, para ver si el modelo se comporta bien:\n",
    "y_pred = model_lr.predict(X_test)\n",
    "\n",
    "print(f'Recall: {round(100*recall_score(y_pred, y_test),2)} %')\n",
    "print(f'Accuracy: {round(100*accuracy_score(y_pred, y_test),2)} %')"
   ]
  },
  {
   "cell_type": "markdown",
   "id": "90b11c22-641f-4994-ab92-00279f3fc046",
   "metadata": {},
   "source": [
    "### Tuneo de hiperparametros\n",
    "\n",
    "Vamos a variar algunos parámetros de la función **LogisticRegression** para ver si podemos mejorar las predicciones"
   ]
  },
  {
   "cell_type": "code",
   "execution_count": 68,
   "id": "a237379a-143a-4cda-8cff-14578777a80c",
   "metadata": {},
   "outputs": [
    {
     "data": {
      "application/vnd.jupyter.widget-view+json": {
       "model_id": "63a9e5a2f1f641d0b69ffe34c55d3639",
       "version_major": 2,
       "version_minor": 0
      },
      "text/plain": [
       "Ejecutando...:   0%|          | 0/10 [00:00<?, ?it/s]"
      ]
     },
     "metadata": {},
     "output_type": "display_data"
    }
   ],
   "source": [
    "%%capture --no-display\n",
    "\n",
    "my_C = np.logspace(-4, 0, 10)\n",
    "my_solver = ['lbfgs', 'newton-cg', 'liblinear', 'sag', 'saga']\n",
    "my_iter = [1000, 1500, 2000] \n",
    "best_eq = []\n",
    "best_re = []\n",
    "best_ac = []\n",
    "\n",
    "for c in tqdm(my_C, desc='Ejecutando...'):\n",
    "    print(\" \", end='\\r')\n",
    "    for s in my_solver:\n",
    "        for i in my_iter:\n",
    "            model_lr = LogisticRegression(max_iter=i, C=c, solver=s, n_jobs=-1)\n",
    "            model_lr.fit(X_train, y_train)\n",
    "            y_pred = model_lr.predict(X_test)\n",
    "            rell = round(100*recall_score(y_pred, y_test),2)\n",
    "            accy = round(100*accuracy_score(y_pred, y_test),2)\n",
    "            prom = 0.5*(rell + accy)\n",
    "            # Equilibrado\n",
    "            if len(best_eq)==0:\n",
    "                best_eq.append({'recall':rell, 'accuracy':accy, 'C':c, 'solver':s, 'max_iter':i})\n",
    "            else:\n",
    "                if 0.5*(best_eq[-1]['recall'] + best_eq[-1]['accuracy']) < prom:\n",
    "                    best_eq.append({'recall':rell, 'accuracy':accy, 'C':c, 'solver':s, 'max_iter':i})\n",
    "                    print({'recall':rell, 'accuracy':accy, 'C':c, 'solver':s, 'max_iter':i, 'Tipo':'EQUILIBRADO'})\n",
    "            # Recall\n",
    "            if len(best_re)==0:\n",
    "                best_eq.append({'recall':rell, 'accuracy':accy, 'C':c, 'solver':s, 'max_iter':i})\n",
    "            else:\n",
    "                if best_re[-1]['recall'] < rell:\n",
    "                    best_eq.append({'recall':rell, 'accuracy':accy, 'C':c, 'solver':s, 'max_iter':i})\n",
    "                    print({'recall':rell, 'accuracy':accy, 'C':c, 'solver':s, 'max_iter':i, 'Tipo':'RECALL'})\n",
    "            # Recall\n",
    "            if len(best_ac)==0:\n",
    "                best_eq.append({'recall':rell, 'accuracy':accy, 'C':c, 'solver':s, 'max_iter':i})\n",
    "            else:\n",
    "                if best_ac[-1]['accuracy'] < accy:\n",
    "                    best_eq.append({'recall':rell, 'accuracy':accy, 'C':c, 'solver':s, 'max_iter':i})\n",
    "                    print({'recall':rell, 'accuracy':accy, 'C':c, 'solver':s, 'max_iter':i, 'Tipo':'ACCURACY'})"
   ]
  },
  {
   "cell_type": "markdown",
   "id": "9ccc8ccd-523e-4ac1-83eb-1ec34d0e25d2",
   "metadata": {},
   "source": [
    "## Bosques aleatorios.\n",
    "\n",
    "Utilizaremos la libreria de **sklearn.ensemble** que nos da acceso a una función llamada **RandomForestClassifier** para usar la clasificación por bosques aleatorios."
   ]
  },
  {
   "cell_type": "markdown",
   "id": "09461d6a-60c5-4316-804a-804dcdc6278e",
   "metadata": {},
   "source": [
    "### Evaluacion simple del modelo"
   ]
  },
  {
   "cell_type": "code",
   "execution_count": null,
   "id": "b76b4ec3-3caf-4c87-bd9f-6545196fab9c",
   "metadata": {},
   "outputs": [],
   "source": [
    "# Creamos un objeto de RandomForestClassifier:\n",
    "model_rf = RandomForestClassifier(n_jobs=-1)\n",
    "\n",
    "# Cremos el modelo para predecir uasando los datos de entrenamiento:\n",
    "model_rf.fit(X_train, y_train)\n",
    "\n",
    "# Hacemos la prediccion, para ver si el modelo se comporta bien:\n",
    "y_pred = model_rf.predict(X_test)\n",
    "\n",
    "print(f'Recall: {round(100*recall_score(y_pred, y_test),2)} %')\n",
    "print(f'Accuracy: {round(100*accuracy_score(y_pred, y_test),2)} %')"
   ]
  },
  {
   "cell_type": "markdown",
   "id": "57753bfd-e2a4-4ddb-b096-47d62fc1deae",
   "metadata": {},
   "source": [
    "### Tuneo de hiperparametros"
   ]
  },
  {
   "cell_type": "code",
   "execution_count": null,
   "id": "16f6809f-437f-4c16-b787-aa6391c9c26f",
   "metadata": {},
   "outputs": [],
   "source": [
    "my_criterion = ['entropy', 'gini']\n",
    "my_nEstimators = [7, 6, 5, 4, 3, 2, 1]\n",
    "my_maxSamples = np.linspace(0.3, 0.4, 30)\n",
    "max_features = ['auto', 'sqrt']\n",
    "best_eq = []\n",
    "best_re = []\n",
    "best_ac = []\n",
    "\n",
    "for samp in tqdm(my_maxSamples, desc='Ejecutando...'):\n",
    "    print(\" \", end='\\r')\n",
    "    for crit in my_criterion:\n",
    "        for est in my_nEstimators:\n",
    "            model_rf = RandomForestClassifier(criterion=crit, n_estimators=est, max_samples=samp, max_features='sqrt', max_depth=200 ,n_jobs=-1)\n",
    "            model_rf.fit(X_train, y_train)\n",
    "            y_pred = model_rf.predict(X_test)\n",
    "            rell = round(100*recall_score(y_pred, y_test),2)\n",
    "            accy = round(100*accuracy_score(y_pred, y_test),2)\n",
    "            prom = 0.5*(rell + accy)\n",
    "            # Equilibrado\n",
    "            if len(best_eq)==0:\n",
    "                best_eq.append({'recall':rell, 'accuracy':accy, 'criterion':crit, 'n_estimators':est, 'max_samples':samp})\n",
    "            else:\n",
    "                if 0.5*(best_eq[-1]['recall'] + best_eq[-1]['accuracy']) < prom:\n",
    "                    best_eq.append({'recall':rell, 'accuracy':accy, 'criterion':crit, 'n_estimators':est, 'max_samples':samp})\n",
    "                    print({'recall':rell, 'accuracy':accy, 'criterion':crit, 'n_estimators':est, 'max_samples':samp, 'Tipo':'EQUILIBRADO'})\n",
    "            # Recall\n",
    "            if len(best_re)==0:\n",
    "                best_re.append({'recall':rell, 'accuracy':accy, 'criterion':crit, 'n_estimators':est, 'max_samples':samp})\n",
    "            else:\n",
    "                if best_re[-1]['recall'] < rell:\n",
    "                    best_re.append({'recall':rell, 'accuracy':accy, 'criterion':crit, 'n_estimators':est, 'max_samples':samp})\n",
    "                    print({'recall':rell, 'accuracy':accy, 'criterion':crit, 'n_estimators':est, 'max_samples':samp, 'Tipo':'RECALL'})\n",
    "            # Accuracy\n",
    "            if len(best_ac)==0:\n",
    "                best_ac.append({'recall':rell, 'accuracy':accy, 'criterion':crit, 'n_estimators':est, 'max_samples':samp})\n",
    "            else:\n",
    "                if best_ac[-1]['accuracy'] < accy:\n",
    "                    best_ac.append({'recall':rell, 'accuracy':accy, 'criterion':crit, 'n_estimators':est, 'max_samples':samp})\n",
    "                    print({'recall':rell, 'accuracy':accy, 'criterion':crit, 'n_estimators':est, 'max_samples':samp, 'Tipo':'ACCURACY'})"
   ]
  },
  {
   "cell_type": "markdown",
   "id": "c847076a-79ef-404e-bfe0-f92f8c50a08e",
   "metadata": {},
   "source": [
    "## KNeighborsClassifier\n",
    "\n",
    "Utilizaremos la libreria de **sklearn.neighbors** que nos da acceso a una función llamada **KNeighborsClassifier** para usar la clasificación por vecinos cercanos."
   ]
  },
  {
   "cell_type": "markdown",
   "id": "5ccb9c0a-58e3-4804-ae66-9c90f47eb77b",
   "metadata": {},
   "source": [
    "### Evaluacion simple del modelo"
   ]
  },
  {
   "cell_type": "code",
   "execution_count": null,
   "id": "31c45e77-26f5-4446-a11d-6e94a36ad3cf",
   "metadata": {},
   "outputs": [],
   "source": [
    "# Creamos un objeto de KNeighborsClassifier:\n",
    "model_knc = KNeighborsClassifier(n_jobs=-1)\n",
    "\n",
    "# Cremos el modelo para predecir uasando los datos de entrenamiento:\n",
    "model_knc.fit(X_train, y_train)\n",
    "\n",
    "# Hacemos la prediccion, para ver si el modelo se comporta bien:\n",
    "y_pred = model_knc.predict(X_test)\n",
    "\n",
    "print(f'Recall: {round(100*recall_score(y_pred, y_test),2)} %')\n",
    "print(f'Accuracy: {round(100*accuracy_score(y_pred, y_test),2)} %')"
   ]
  },
  {
   "cell_type": "markdown",
   "id": "4e7a4224-a4f0-4e68-8a50-51b680b50893",
   "metadata": {},
   "source": [
    "### Tuneo de hiperparametros"
   ]
  },
  {
   "cell_type": "code",
   "execution_count": null,
   "id": "07f0eaf4-7055-4c33-95c0-9ce6e46e0fad",
   "metadata": {},
   "outputs": [],
   "source": [
    "my_algorithm = ['brute', 'ball_tree', 'kd_tree']\n",
    "my_p = [2, 1]\n",
    "my_weights = ['distance', 'uniform']\n",
    "best_eq = []\n",
    "best_re = []\n",
    "best_ac = []\n",
    "\n",
    "for alg in tqdm(my_algorithm, desc='Ejecutando...'):\n",
    "    print(\" \", end='\\r')\n",
    "    for wei in my_weights:\n",
    "        for pot in my_p: \n",
    "            model_knc = KNeighborsClassifier(n_neighbors=3, algorithm=alg, p=pot, weights=wei ,n_jobs=-1)\n",
    "            model_knc.fit(X_train, y_train)\n",
    "            y_pred = model_knc.predict(X_test)\n",
    "            rell = round(100*recall_score(y_pred, y_test),2)\n",
    "            accy = round(100*accuracy_score(y_pred, y_test),2)\n",
    "            prom = 0.5*(rell + accy)\n",
    "            # Equilibrado\n",
    "            if len(best_eq)==0:\n",
    "                best_eq.append({'recall':rell, 'accuracy':accy, 'algorithm':alg, 'p':pot, 'weights':wei})\n",
    "            else:\n",
    "                if 0.5*(best_eq[-1]['recall'] + best_eq[-1]['accuracy']) < prom:\n",
    "                    best_eq.append({'recall':rell, 'accuracy':accy, 'algorithm':alg, 'p':pot, 'weights':wei})\n",
    "                    print({'recall':rell, 'accuracy':accy, 'algorithm':alg, 'p':pot, 'weights':wei, 'TIPO':'Equilibrado'})\n",
    "                    \n",
    "            # Recall\n",
    "            if len(best_re)==0:\n",
    "                best_re.append({'recall':rell, 'accuracy':accy, 'algorithm':alg, 'p':pot, 'weights':wei})\n",
    "            else:\n",
    "                if best_re[-1]['recall'] < rell:\n",
    "                    best_re.append({'recall':rell, 'accuracy':accy, 'algorithm':alg, 'p':pot, 'weights':wei})\n",
    "                    print({'recall':rell, 'accuracy':accy, 'algorithm':alg, 'p':pot, 'weights':wei, 'TIPO':'Recall'})\n",
    "                    \n",
    "            # Accuracy\n",
    "            if len(best_ac)==0:\n",
    "                best_ac.append({'recall':rell, 'accuracy':accy, 'algorithm':alg, 'p':pot, 'weights':wei})\n",
    "            else:\n",
    "                if best_ac[-1]['accuracy'] < accy:\n",
    "                    best_ac.append({'recall':rell, 'accuracy':accy, 'algorithm':alg, 'p':pot, 'weights':wei})\n",
    "                    print({'recall':rell, 'accuracy':accy, 'algorithm':alg, 'p':pot, 'weights':wei, 'TIPO':'Accuracy'})"
   ]
  },
  {
   "cell_type": "markdown",
   "id": "452c5ed9-ad24-440c-9b26-8ec38f715f89",
   "metadata": {},
   "source": [
    "# Predicción\n",
    "\n",
    "Lo primero que haremos sera obtener los nuevos **X_train**, **X_test** usando los Pipelines creados anteriormente."
   ]
  },
  {
   "cell_type": "code",
   "execution_count": 113,
   "id": "a9577554-866d-4c0e-9bb2-2691948e1c59",
   "metadata": {},
   "outputs": [
    {
     "data": {
      "text/html": [
       "<div>\n",
       "<style scoped>\n",
       "    .dataframe tbody tr th:only-of-type {\n",
       "        vertical-align: middle;\n",
       "    }\n",
       "\n",
       "    .dataframe tbody tr th {\n",
       "        vertical-align: top;\n",
       "    }\n",
       "\n",
       "    .dataframe thead th {\n",
       "        text-align: right;\n",
       "    }\n",
       "</style>\n",
       "<table border=\"1\" class=\"dataframe\">\n",
       "  <thead>\n",
       "    <tr style=\"text-align: right;\">\n",
       "      <th></th>\n",
       "      <th>Available Extra Rooms in Hospital</th>\n",
       "      <th>Department</th>\n",
       "      <th>Ward_Facility_Code</th>\n",
       "      <th>doctor_name</th>\n",
       "      <th>staff_available</th>\n",
       "      <th>patientid</th>\n",
       "      <th>Age</th>\n",
       "      <th>gender</th>\n",
       "      <th>Type of Admission</th>\n",
       "      <th>Severity of Illness</th>\n",
       "      <th>health_conditions</th>\n",
       "      <th>Visitors with Patient</th>\n",
       "      <th>Insurance</th>\n",
       "      <th>Admission_Deposit</th>\n",
       "    </tr>\n",
       "  </thead>\n",
       "  <tbody>\n",
       "    <tr>\n",
       "      <th>0</th>\n",
       "      <td>4</td>\n",
       "      <td>gynecology</td>\n",
       "      <td>D</td>\n",
       "      <td>Dr Sophia</td>\n",
       "      <td>0</td>\n",
       "      <td>33070</td>\n",
       "      <td>41-50</td>\n",
       "      <td>Female</td>\n",
       "      <td>Trauma</td>\n",
       "      <td>Extreme</td>\n",
       "      <td>Diabetes</td>\n",
       "      <td>4</td>\n",
       "      <td>Yes</td>\n",
       "      <td>2966.408696</td>\n",
       "    </tr>\n",
       "    <tr>\n",
       "      <th>1</th>\n",
       "      <td>4</td>\n",
       "      <td>gynecology</td>\n",
       "      <td>B</td>\n",
       "      <td>Dr Sophia</td>\n",
       "      <td>2</td>\n",
       "      <td>34808</td>\n",
       "      <td>31-40</td>\n",
       "      <td>Female</td>\n",
       "      <td>Trauma</td>\n",
       "      <td>Minor</td>\n",
       "      <td>Heart disease</td>\n",
       "      <td>2</td>\n",
       "      <td>No</td>\n",
       "      <td>3554.835677</td>\n",
       "    </tr>\n",
       "    <tr>\n",
       "      <th>2</th>\n",
       "      <td>2</td>\n",
       "      <td>gynecology</td>\n",
       "      <td>B</td>\n",
       "      <td>Dr Sophia</td>\n",
       "      <td>8</td>\n",
       "      <td>44577</td>\n",
       "      <td>21-30</td>\n",
       "      <td>Female</td>\n",
       "      <td>Trauma</td>\n",
       "      <td>Extreme</td>\n",
       "      <td>Diabetes</td>\n",
       "      <td>2</td>\n",
       "      <td>Yes</td>\n",
       "      <td>5624.733654</td>\n",
       "    </tr>\n",
       "    <tr>\n",
       "      <th>3</th>\n",
       "      <td>4</td>\n",
       "      <td>gynecology</td>\n",
       "      <td>D</td>\n",
       "      <td>Dr Olivia</td>\n",
       "      <td>7</td>\n",
       "      <td>3695</td>\n",
       "      <td>31-40</td>\n",
       "      <td>Female</td>\n",
       "      <td>Urgent</td>\n",
       "      <td>Moderate</td>\n",
       "      <td>None</td>\n",
       "      <td>4</td>\n",
       "      <td>No</td>\n",
       "      <td>4814.149231</td>\n",
       "    </tr>\n",
       "    <tr>\n",
       "      <th>4</th>\n",
       "      <td>2</td>\n",
       "      <td>anesthesia</td>\n",
       "      <td>E</td>\n",
       "      <td>Dr Mark</td>\n",
       "      <td>10</td>\n",
       "      <td>108956</td>\n",
       "      <td>71-80</td>\n",
       "      <td>Male</td>\n",
       "      <td>Trauma</td>\n",
       "      <td>Moderate</td>\n",
       "      <td>Diabetes</td>\n",
       "      <td>2</td>\n",
       "      <td>No</td>\n",
       "      <td>5169.269637</td>\n",
       "    </tr>\n",
       "    <tr>\n",
       "      <th>...</th>\n",
       "      <td>...</td>\n",
       "      <td>...</td>\n",
       "      <td>...</td>\n",
       "      <td>...</td>\n",
       "      <td>...</td>\n",
       "      <td>...</td>\n",
       "      <td>...</td>\n",
       "      <td>...</td>\n",
       "      <td>...</td>\n",
       "      <td>...</td>\n",
       "      <td>...</td>\n",
       "      <td>...</td>\n",
       "      <td>...</td>\n",
       "      <td>...</td>\n",
       "    </tr>\n",
       "    <tr>\n",
       "      <th>499995</th>\n",
       "      <td>4</td>\n",
       "      <td>gynecology</td>\n",
       "      <td>F</td>\n",
       "      <td>Dr Sarah</td>\n",
       "      <td>2</td>\n",
       "      <td>43001</td>\n",
       "      <td>11-20</td>\n",
       "      <td>Female</td>\n",
       "      <td>Trauma</td>\n",
       "      <td>Minor</td>\n",
       "      <td>High Blood Pressure</td>\n",
       "      <td>3</td>\n",
       "      <td>No</td>\n",
       "      <td>4105.795901</td>\n",
       "    </tr>\n",
       "    <tr>\n",
       "      <th>499996</th>\n",
       "      <td>13</td>\n",
       "      <td>gynecology</td>\n",
       "      <td>F</td>\n",
       "      <td>Dr Olivia</td>\n",
       "      <td>8</td>\n",
       "      <td>85601</td>\n",
       "      <td>31-40</td>\n",
       "      <td>Female</td>\n",
       "      <td>Emergency</td>\n",
       "      <td>Moderate</td>\n",
       "      <td>Other</td>\n",
       "      <td>2</td>\n",
       "      <td>No</td>\n",
       "      <td>4631.550257</td>\n",
       "    </tr>\n",
       "    <tr>\n",
       "      <th>499997</th>\n",
       "      <td>2</td>\n",
       "      <td>gynecology</td>\n",
       "      <td>B</td>\n",
       "      <td>Dr Sarah</td>\n",
       "      <td>3</td>\n",
       "      <td>22447</td>\n",
       "      <td>11-20</td>\n",
       "      <td>Female</td>\n",
       "      <td>Emergency</td>\n",
       "      <td>Moderate</td>\n",
       "      <td>High Blood Pressure</td>\n",
       "      <td>2</td>\n",
       "      <td>No</td>\n",
       "      <td>5456.930075</td>\n",
       "    </tr>\n",
       "    <tr>\n",
       "      <th>499998</th>\n",
       "      <td>2</td>\n",
       "      <td>radiotherapy</td>\n",
       "      <td>A</td>\n",
       "      <td>Dr John</td>\n",
       "      <td>1</td>\n",
       "      <td>29957</td>\n",
       "      <td>61-70</td>\n",
       "      <td>Female</td>\n",
       "      <td>Trauma</td>\n",
       "      <td>Extreme</td>\n",
       "      <td>Diabetes</td>\n",
       "      <td>2</td>\n",
       "      <td>No</td>\n",
       "      <td>4694.127772</td>\n",
       "    </tr>\n",
       "    <tr>\n",
       "      <th>499999</th>\n",
       "      <td>3</td>\n",
       "      <td>gynecology</td>\n",
       "      <td>F</td>\n",
       "      <td>Dr Sophia</td>\n",
       "      <td>3</td>\n",
       "      <td>45008</td>\n",
       "      <td>41-50</td>\n",
       "      <td>Female</td>\n",
       "      <td>Trauma</td>\n",
       "      <td>Moderate</td>\n",
       "      <td>Heart disease</td>\n",
       "      <td>4</td>\n",
       "      <td>Yes</td>\n",
       "      <td>4713.868519</td>\n",
       "    </tr>\n",
       "  </tbody>\n",
       "</table>\n",
       "<p>500000 rows × 14 columns</p>\n",
       "</div>"
      ],
      "text/plain": [
       "        Available Extra Rooms in Hospital    Department Ward_Facility_Code  \\\n",
       "0                                       4    gynecology                  D   \n",
       "1                                       4    gynecology                  B   \n",
       "2                                       2    gynecology                  B   \n",
       "3                                       4    gynecology                  D   \n",
       "4                                       2    anesthesia                  E   \n",
       "...                                   ...           ...                ...   \n",
       "499995                                  4    gynecology                  F   \n",
       "499996                                 13    gynecology                  F   \n",
       "499997                                  2    gynecology                  B   \n",
       "499998                                  2  radiotherapy                  A   \n",
       "499999                                  3    gynecology                  F   \n",
       "\n",
       "       doctor_name  staff_available  patientid    Age  gender  \\\n",
       "0        Dr Sophia                0      33070  41-50  Female   \n",
       "1        Dr Sophia                2      34808  31-40  Female   \n",
       "2        Dr Sophia                8      44577  21-30  Female   \n",
       "3        Dr Olivia                7       3695  31-40  Female   \n",
       "4          Dr Mark               10     108956  71-80    Male   \n",
       "...            ...              ...        ...    ...     ...   \n",
       "499995    Dr Sarah                2      43001  11-20  Female   \n",
       "499996   Dr Olivia                8      85601  31-40  Female   \n",
       "499997    Dr Sarah                3      22447  11-20  Female   \n",
       "499998     Dr John                1      29957  61-70  Female   \n",
       "499999   Dr Sophia                3      45008  41-50  Female   \n",
       "\n",
       "       Type of Admission Severity of Illness    health_conditions  \\\n",
       "0                 Trauma             Extreme             Diabetes   \n",
       "1                 Trauma               Minor        Heart disease   \n",
       "2                 Trauma             Extreme             Diabetes   \n",
       "3                 Urgent            Moderate                 None   \n",
       "4                 Trauma            Moderate             Diabetes   \n",
       "...                  ...                 ...                  ...   \n",
       "499995            Trauma               Minor  High Blood Pressure   \n",
       "499996         Emergency            Moderate                Other   \n",
       "499997         Emergency            Moderate  High Blood Pressure   \n",
       "499998            Trauma             Extreme             Diabetes   \n",
       "499999            Trauma            Moderate        Heart disease   \n",
       "\n",
       "        Visitors with Patient Insurance  Admission_Deposit  \n",
       "0                           4       Yes        2966.408696  \n",
       "1                           2        No        3554.835677  \n",
       "2                           2       Yes        5624.733654  \n",
       "3                           4        No        4814.149231  \n",
       "4                           2        No        5169.269637  \n",
       "...                       ...       ...                ...  \n",
       "499995                      3        No        4105.795901  \n",
       "499996                      2        No        4631.550257  \n",
       "499997                      2        No        5456.930075  \n",
       "499998                      2        No        4694.127772  \n",
       "499999                      4       Yes        4713.868519  \n",
       "\n",
       "[500000 rows x 14 columns]"
      ]
     },
     "execution_count": 113,
     "metadata": {},
     "output_type": "execute_result"
    }
   ],
   "source": [
    "# Extraemos los datos del dataset 'hospitalizaciones_train.csv' y 'hospitalizaciones_train.csv'\n",
    "data_train = pd.read_csv('hospitalizaciones_train.csv')\n",
    "data_test = pd.read_csv('hospitalizaciones_test.csv')\n",
    "# Eliminamos la columna '' del DataFrame data_train, ya que esa columna no la usaremos\n",
    "data_train.drop(['Stay (in days)'], axis=1, inplace=True)\n",
    "# Combinamos ambos DataFrames\n",
    "data_all = pd.concat([data_train, data_test], axis = 0)\n",
    "# Reestablecemos los indices\n",
    "data_all.reset_index(inplace=True, drop=True)\n",
    "data_all"
   ]
  },
  {
   "cell_type": "code",
   "execution_count": 114,
   "id": "1178a4c0-6c1e-426b-90ed-2eb8f0b1346a",
   "metadata": {},
   "outputs": [
    {
     "data": {
      "text/plain": [
       "Available Extra Rooms in Hospital       int64\n",
       "Department                           category\n",
       "Ward_Facility_Code                   category\n",
       "doctor_name                          category\n",
       "staff_available                         int64\n",
       "Age                                  category\n",
       "gender                               category\n",
       "Type of Admission                    category\n",
       "Severity of Illness                  category\n",
       "health_conditions                    category\n",
       "Visitors with Patient                   int64\n",
       "Insurance                            category\n",
       "Admission_Deposit                     float64\n",
       "dtype: object"
      ]
     },
     "execution_count": 114,
     "metadata": {},
     "output_type": "execute_result"
    }
   ],
   "source": [
    "# Transformamos los datos con el primer Pipeline\n",
    "data_all = pipe_trans.transform(data_all)\n",
    "data_all.dtypes"
   ]
  },
  {
   "cell_type": "code",
   "execution_count": 115,
   "id": "640d8d4a-ca28-4da9-bbd4-8997438e0892",
   "metadata": {},
   "outputs": [
    {
     "data": {
      "text/plain": [
       "array([[0.        , 0.        , 1.        , ..., 0.        , 0.125     ,\n",
       "        0.15530077],\n",
       "       [0.        , 0.        , 1.        , ..., 0.2       , 0.0625    ,\n",
       "        0.22493116],\n",
       "       [0.        , 0.        , 1.        , ..., 0.8       , 0.0625    ,\n",
       "        0.46986859],\n",
       "       ...,\n",
       "       [0.        , 0.        , 1.        , ..., 0.3       , 0.0625    ,\n",
       "        0.45001188],\n",
       "       [0.        , 0.        , 0.        , ..., 0.1       , 0.0625    ,\n",
       "        0.35974712],\n",
       "       [0.        , 0.        , 1.        , ..., 0.3       , 0.125     ,\n",
       "        0.3620831 ]])"
      ]
     },
     "execution_count": 115,
     "metadata": {},
     "output_type": "execute_result"
    }
   ],
   "source": [
    "pipe_prepro = Pipeline([\n",
    "    ('vars_cat', vars_categoricas()),\n",
    "    ('vars_num', vars_numericas(data_all)),\n",
    "    ('escalado', Escalar())\n",
    "])\n",
    "# Preprocesamos los datos con el segundo Pipeline\n",
    "X = pipe_prepro.transform(data_all)\n",
    "X"
   ]
  },
  {
   "cell_type": "code",
   "execution_count": 116,
   "id": "529a86fd-a4d7-4466-85f2-00078eff3b32",
   "metadata": {},
   "outputs": [
    {
     "data": {
      "text/plain": [
       "((410000, 51), (90000, 51))"
      ]
     },
     "execution_count": 116,
     "metadata": {},
     "output_type": "execute_result"
    }
   ],
   "source": [
    "# Dividimos el conjunto de entrenamiento como venia en los archivos proporcionados. Despues haremos las predicción.\n",
    "X_train, X_test = X[:410000], X[410000:]\n",
    "X_train.shape, X_test.shape"
   ]
  },
  {
   "cell_type": "markdown",
   "id": "eec29d39-f312-4a21-ba89-442be2bb2f85",
   "metadata": {},
   "source": [
    "Despues sarémos el modelo de **Bosques aleatorios** ya que dio el mejor **recall** y **accuracy**, los hiperparámetros serán:\n",
    "\n",
    "* criterion='gini' \n",
    "* n_estimators=2\n",
    "* max_samples=0.9 \n",
    "* max_features='sqrt' \n",
    "* max_depth =200\n",
    "* n_jobs=-1"
   ]
  },
  {
   "cell_type": "code",
   "execution_count": 120,
   "id": "548b943c-c684-4014-84b7-fb6a52224ee1",
   "metadata": {},
   "outputs": [
    {
     "name": "stdout",
     "output_type": "stream",
     "text": [
      "El modelo ha sido guardado!!!\n"
     ]
    }
   ],
   "source": [
    "# Creamos un objeto de RandomForestClassifier:\n",
    "model_rfc = RandomForestClassifier(criterion='gini', n_estimators=2, max_samples=0.9, max_features='sqrt', max_depth =200, n_jobs=-1)\n",
    "\n",
    "# Cremos el modelo para predecir uasando los datos de entrenamiento:\n",
    "model_rfc.fit(X_train, y)\n",
    "\n",
    "# Hacemos la prediccion:\n",
    "y_pred = model_rfc.predict(X_test)\n",
    "\n",
    "# Creamos un DataFrame con las predicciones:\n",
    "pred = pd.DataFrame(y_pred, columns=[['pred']])\n",
    "\n",
    "# Guardamos la prediccion:\n",
    "pred.to_csv('JozCrzBrgn_.csv', index=False)\n",
    "\n",
    "print('El modelo ha sido guardado!!!')\n"
   ]
  },
  {
   "cell_type": "code",
   "execution_count": null,
   "id": "3068f071-31d6-4494-854d-3c2986249e17",
   "metadata": {},
   "outputs": [],
   "source": []
  }
 ],
 "metadata": {
  "kernelspec": {
   "display_name": "Python 3 (ipykernel)",
   "language": "python",
   "name": "python3"
  },
  "language_info": {
   "codemirror_mode": {
    "name": "ipython",
    "version": 3
   },
   "file_extension": ".py",
   "mimetype": "text/x-python",
   "name": "python",
   "nbconvert_exporter": "python",
   "pygments_lexer": "ipython3",
   "version": "3.9.12"
  }
 },
 "nbformat": 4,
 "nbformat_minor": 5
}
